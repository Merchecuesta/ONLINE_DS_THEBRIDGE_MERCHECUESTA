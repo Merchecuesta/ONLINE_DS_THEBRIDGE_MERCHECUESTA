{
 "cells": [
  {
   "cell_type": "markdown",
   "metadata": {},
   "source": [
    "![imagen](./img/ejercicios.png)"
   ]
  },
  {
   "cell_type": "markdown",
   "metadata": {},
   "source": [
    "## Ejercicio 1\n",
    "1. Elimina todos los VW de la siguiente lista. Crea una lista nueva para ello.\n",
    "2. Hazlo de otra manera. Crea una lista nueva, y ve añadiendo todos los que no sean VW\n",
    "3. En vez de `for`, usa un bucle `while`\n",
    "> ejer_1 = [\"VW\", \"Audi\", \"Renault\", \"VW\", \"BMW\"]"
   ]
  },
  {
   "cell_type": "code",
   "execution_count": 194,
   "metadata": {},
   "outputs": [
    {
     "name": "stdout",
     "output_type": "stream",
     "text": [
      "Lista copiada tras el ejercicio ['Audi', 'Renault', 'BMW']\n",
      "Lista ejer_1 ['VW', 'Audi', 'Renault', 'VW', 'BMW']\n",
      "Lista nueva creada para el ejercicio con bucle For ['Audi', 'Renault', 'BMW']\n",
      "Lista copiada para ejercicio con While tras el ejercicio ['Audi', 'Renault', 'BMW']\n",
      "Lista nueva creada para el ejercicio con while ['Audi', 'Renault', 'BMW']\n"
     ]
    }
   ],
   "source": [
    "# con bucle For\n",
    "#1.Elimina todos los VW de la siguiente lista. Crea una lista nueva para ello.\n",
    "\n",
    "ejer_1 = [\"VW\", \"Audi\", \"Renault\", \"VW\", \"BMW\"]\n",
    "lista_copiada = ejer_1.copy() # Hacemos una copia para trabajar\n",
    "\n",
    "for i in lista_copiada:\n",
    "    if i == \"VW\":\n",
    "        lista_copiada.remove(i)\n",
    "print(\"Lista copiada tras el ejercicio\", lista_copiada)\n",
    "print(\"Lista ejer_1\", ejer_1)\n",
    "\n",
    "#2.Hazlo de otra manera. Crea una lista nueva, y ve añadiendo todos los que no sean VW\n",
    "\n",
    "ejer_1 = [\"VW\", \"Audi\", \"Renault\", \"VW\", \"BMW\"]\n",
    "lista_nueva = []# Hacemos una lista nueva\n",
    "\n",
    "for i in ejer_1:\n",
    "    if i != \"VW\":\n",
    "        lista_nueva.append(i)\n",
    "print(\"Lista nueva creada para el ejercicio con bucle For\", lista_nueva)\n",
    "\n",
    "#3.En vez de `for`, usa un bucle `while`\n",
    "#1.Elimina todos los VW de la siguiente lista. Crea una lista nueva para ello.\n",
    "\n",
    "ejer_1 = [\"VW\", \"Audi\", \"Renault\", \"VW\", \"BMW\"]\n",
    "sin_vw = ejer_1.copy()  # Hacemos una copia para trabajar\n",
    "\n",
    "i = 0\n",
    "while i < len(sin_vw):\n",
    "    if sin_vw[i] == \"VW\":\n",
    "        sin_vw.pop(i)\n",
    "    else:\n",
    "        i += 1\n",
    "\n",
    "print(\"Lista copiada para ejercicio con While tras el ejercicio\", sin_vw)\n",
    "\n",
    "#2.Hazlo de otra manera. Crea una lista nueva, y ve añadiendo todos los que no sean VW\n",
    "\n",
    "ejer_1 = [\"VW\", \"Audi\", \"Renault\", \"VW\", \"BMW\"]\n",
    "nueva_lista = [] # Hacemos una lista nueva\n",
    "\n",
    "i = 0\n",
    "while i < len(ejer_1):\n",
    "    if ejer_1[i] != \"VW\":\n",
    "        nueva_lista.append(ejer_1[i])\n",
    "    i += 1\n",
    "\n",
    "print(\"Lista nueva creada para el ejercicio con while\" ,nueva_lista)\n",
    "\n"
   ]
  },
  {
   "cell_type": "markdown",
   "metadata": {},
   "source": [
    "## Ejercicio 2\n",
    "Imprime por pantalla la siguiente secuencia: 10, 9, 8.... -8, -9, -10"
   ]
  },
  {
   "cell_type": "code",
   "execution_count": 195,
   "metadata": {},
   "outputs": [
    {
     "name": "stdout",
     "output_type": "stream",
     "text": [
      "10\n",
      "9\n",
      "8\n",
      "7\n",
      "6\n",
      "5\n",
      "4\n",
      "3\n",
      "2\n",
      "1\n",
      "0\n",
      "-1\n",
      "-2\n",
      "-3\n",
      "-4\n",
      "-5\n",
      "-6\n",
      "-7\n",
      "-8\n",
      "-9\n",
      "-10\n"
     ]
    }
   ],
   "source": [
    "\n",
    "\n",
    "for i in range(10,-11,-1):\n",
    "    print(i)"
   ]
  },
  {
   "cell_type": "markdown",
   "metadata": {},
   "source": [
    "## Ejercicio 3\n",
    "1. Escribe un programa que vaya pidiendo numeros al usuario. Cuando el usuario introduzca el 0, el programa tiene que imprimir por pantalla el sumatorio de todos los numeros positivos introducidos\n",
    "2. Además de la suma, queremos que imprima también una lista con todos los números."
   ]
  },
  {
   "cell_type": "code",
   "execution_count": null,
   "metadata": {},
   "outputs": [
    {
     "name": "stdout",
     "output_type": "stream",
     "text": [
      "La suma de los números positivos es: 16\n"
     ]
    }
   ],
   "source": [
    "total = 0\n",
    "\n",
    "while True:\n",
    "    num = int(input(\"Introduce un número (0 para salir): \"))\n",
    "    if num == 0:\n",
    "        break\n",
    "    if num > 0:\n",
    "        total += num\n",
    "\n",
    "print(f\"La suma de los números positivos es: {total}\")\n",
    "print(f\"Los números positivos introducidos son: {numeros_positivos}\")"
   ]
  },
  {
   "cell_type": "markdown",
   "metadata": {},
   "source": [
    "## Ejercicio 4\n",
    "Escribir un programa que vaya pidiendo la cantidad de compras de un cliente. El programa tiene que pedir cantidades hasta que se ingresa un 0. Igualmente cuando una de las cantiaddes introducida es negativa, hay que mandar un mensaje de que \"la cantidad es negativa, por favor introducir numeros positivos\""
   ]
  },
  {
   "cell_type": "code",
   "execution_count": 224,
   "metadata": {},
   "outputs": [
    {
     "name": "stdout",
     "output_type": "stream",
     "text": [
      "Cantidad registrada: 5\n",
      "Cantidad registrada: 25\n",
      "Cantidad registrada: 58\n",
      "Cantidad registrada: 4\n",
      "Proceso terminado.\n"
     ]
    }
   ],
   "source": [
    "while True:\n",
    "    cantidad = int(input(\"Introduce la cantidad de compras (0 para terminar): \"))\n",
    "    \n",
    "    if cantidad == 0:\n",
    "        print(\"Proceso terminado.\")\n",
    "        break\n",
    "    elif cantidad < 0:\n",
    "        print(\"La cantidad es negativa, por favor introducir números positivos.\")\n",
    "    else:\n",
    "        print(f\"Cantidad registrada: {cantidad}\")\n"
   ]
  },
  {
   "cell_type": "markdown",
   "metadata": {},
   "source": [
    "## Ejercicio 5\n",
    "Imprime por pantalla la palabra \"Python\", pero empezando con la última letra."
   ]
  },
  {
   "cell_type": "code",
   "execution_count": 196,
   "metadata": {},
   "outputs": [
    {
     "name": "stdout",
     "output_type": "stream",
     "text": [
      "n\n",
      "o\n",
      "t\n",
      "y\n",
      "h\n",
      "P\n"
     ]
    }
   ],
   "source": [
    "palabra = \"Phyton\"\n",
    "for i in range(len(palabra) - 1, -1, -1):\n",
    "    print(palabra[i])\n",
    "    "
   ]
  },
  {
   "cell_type": "markdown",
   "metadata": {},
   "source": [
    "## Ejercicio 6\n",
    "Escribe un programa que calcule la cantidad de veces que está la letra \"m\" o \"M\" en la frase:\n",
    "> \"En un lugar de La Mancha, de cuyo nombre no quiero acordarme\""
   ]
  },
  {
   "cell_type": "code",
   "execution_count": 197,
   "metadata": {},
   "outputs": [
    {
     "name": "stdout",
     "output_type": "stream",
     "text": [
      "La letra M/m se encuenta en la frase 3 veces\n"
     ]
    }
   ],
   "source": [
    "frase = \"En un lugar de La Mancha, de cuyo nombre no quiero acordarme\"\n",
    "mM = 0\n",
    "\n",
    "for i in frase:\n",
    "    if i==\"m\" or i==\"M\":\n",
    "        mM +=1\n",
    "print(\"La letra M/m se encuenta en la frase\", mM, \"veces\")"
   ]
  },
  {
   "cell_type": "markdown",
   "metadata": {},
   "source": [
    "## Ejercicio 7\n",
    "Crea un programa que simule la siguiente pirámide. Para ello, el programa tiene que pedirle al usuario un caracter cualquiera. El número de filas es fijo, 5. Vas a necesitar usar dos bucles anidados.\n",
    "\n",
    "W W W W W \n",
    "\n",
    "W W W W \n",
    "\n",
    "W W W \n",
    "\n",
    "W W \n",
    "\n",
    "W \n",
    "\n",
    "\n"
   ]
  },
  {
   "cell_type": "code",
   "execution_count": 198,
   "metadata": {},
   "outputs": [
    {
     "name": "stdout",
     "output_type": "stream",
     "text": [
      "D D D D D \n",
      "D D D D \n",
      "D D D \n",
      "D D \n",
      "D \n"
     ]
    }
   ],
   "source": [
    "caracter = (input(\"Por favor introduzca un carácter:\"))\n",
    "filas=5\n",
    "\n",
    "for i in range(filas, 0, -1):\n",
    "    for x in range(i):  \n",
    "        print(caracter, end=\" \")\n",
    "    print() #salto de línea después de cada fila\n"
   ]
  },
  {
   "cell_type": "markdown",
   "metadata": {},
   "source": [
    " ## Ejercicio 8\n",
    " Crea un programa que en función de un input numérico que inserte el usuario, imprima por pantalla la pirámide de ejemplo. Si el input es 6, tendrá 6 pisos, pero si introduce 10, la pirámide tendrá 10 pisos.\n",
    " \n",
    " 1 2 3 4 5 6\n",
    " \n",
    " 1 2 3 4 5\n",
    " \n",
    " 1 2 3 4\n",
    " \n",
    " 1 2 3\n",
    " \n",
    " 1 2\n",
    " \n",
    " 1"
   ]
  },
  {
   "cell_type": "code",
   "execution_count": 199,
   "metadata": {},
   "outputs": [
    {
     "name": "stdout",
     "output_type": "stream",
     "text": [
      "1 2 3 4 5 \n",
      "1 2 3 4 \n",
      "1 2 3 \n",
      "1 2 \n",
      "1 \n"
     ]
    }
   ],
   "source": [
    "num_usuario = int(input(\"Por favor introduzca un numero del 1 al 10:\"))\n",
    "for i in range(num_usuario, 0, -1):\n",
    "    for x in range(1, i + 1):  \n",
    "        print(x, end=\" \")\n",
    "    print() #salto de línea después de cada fila"
   ]
  },
  {
   "cell_type": "markdown",
   "metadata": {},
   "source": [
    "## Ejercicio 9\n",
    "Replica el siguiente patrón"
   ]
  },
  {
   "cell_type": "raw",
   "metadata": {},
   "source": [
    "* \n",
    "* * \n",
    "* * * \n",
    "* * * * \n",
    "* * * * * \n",
    "* * * * \n",
    "* * * \n",
    "* * \n",
    "* "
   ]
  },
  {
   "cell_type": "code",
   "execution_count": 200,
   "metadata": {},
   "outputs": [
    {
     "name": "stdout",
     "output_type": "stream",
     "text": [
      "* \n",
      "* * \n",
      "* * * \n",
      "* * * * \n",
      "* * * * * \n",
      "* * * * \n",
      "* * * \n",
      "* * \n",
      "* \n"
     ]
    }
   ],
   "source": [
    "for i in range(1, 6):   #esto va del 1 al 5\n",
    "    print(\"* \" * i)     #esto imprime un * por cada item del range\n",
    "for i in range(4, 0, -1):#el range empieza en 4 y se para antes del 0, yendo cuenta atrás paso a paso con-1\n",
    "    print(\"* \" * i)"
   ]
  },
  {
   "cell_type": "markdown",
   "metadata": {},
   "source": [
    "## Ejercicio 10\n",
    "Imprime toda la secuencia de numeros del 1 al 10, excepto el 3, 4 y 9. Impleméntalo de dos maneras diferentes"
   ]
  },
  {
   "cell_type": "code",
   "execution_count": 206,
   "metadata": {},
   "outputs": [
    {
     "name": "stdout",
     "output_type": "stream",
     "text": [
      "For 1\n",
      "For 2\n",
      "For 5\n",
      "For 6\n",
      "For 7\n",
      "For 8\n",
      "while 1\n",
      "while 2\n",
      "while 5\n",
      "while 6\n",
      "while 7\n",
      "while 8\n"
     ]
    }
   ],
   "source": [
    "#Con bucle for\n",
    "\n",
    "for i in range(1,10,1):\n",
    "    if (i==3 or i==4 or i==9):\n",
    "        continue\n",
    "    else:\n",
    "        print (\"For\", i)\n",
    "\n",
    "#Con while:\n",
    "\n",
    "lista = [1,2,3,4,5,6,7,8,9]\n",
    "x = 0\n",
    "\n",
    "while x < len(lista):\n",
    "    if lista[x] in (3, 4, 9):\n",
    "        x += 1\n",
    "        continue\n",
    "    print(\"while\",(lista[x]))\n",
    "    x += 1\n"
   ]
  },
  {
   "cell_type": "markdown",
   "metadata": {},
   "source": [
    "## Ejercicio 11\n",
    "Suponiendo que siempre se cumple que las dos listas del ejercicio son iguales de tamaño, implementa un programa que calcule el ratio ingreso/gasto de cada elemento, y lo guarde en una nueva lista. Si hubiese algún problema con los datos, hay que almacenar un mensaje de error en la lista del resultado. Usa `try/except`\n",
    "> ingresos = [100, 200, 500, 100, 600]\n",
    ">\n",
    "> gastos = [50, 20, 70, 0, 25]"
   ]
  },
  {
   "cell_type": "code",
   "execution_count": 213,
   "metadata": {},
   "outputs": [
    {
     "name": "stdout",
     "output_type": "stream",
     "text": [
      "[2.0, 10.0, 7.142857142857143, 'No se puede calcular', 24.0]\n"
     ]
    }
   ],
   "source": [
    "# ratio = ingreso /gasto \n",
    "ingresos = [100, 200, 500, 100, 600]\n",
    "gastos = [50, 20, 70, 0, 25]\n",
    "ratios_cal = []\n",
    "\n",
    "for i in range(5):     \n",
    "    if gastos[i] != 0:\n",
    "        ratio = ingresos[i]/gastos[i]\n",
    "    else:\n",
    "        ratio = \"No se puede calcular\"\n",
    "    ratios_cal.append(ratio)\n",
    "print(ratios_cal)"
   ]
  },
  {
   "cell_type": "markdown",
   "metadata": {},
   "source": [
    "## Ejercicio 12\n",
    "Muy parecido al anterior, aunque ahora tendremos que excepcionar más tipos de errores con estos nuevos datos. En este caso, almacena un mensaje diferente en la lista resultado, para cada error.\n",
    "\n",
    "> ingresos = [100, \"HHH\", 500, 100, 600, 900, 150]\n",
    ">\n",
    "> gastos = [50, 20, 70, 0, 25]"
   ]
  },
  {
   "cell_type": "code",
   "execution_count": 222,
   "metadata": {},
   "outputs": [
    {
     "name": "stdout",
     "output_type": "stream",
     "text": [
      "Los resultados de los ratios con sus errores son los siguientes [2.0, 'Dato no numérico', 7.142857142857143, 'División por cero', 24.0, 'Dato faltante', 'Dato faltante']\n"
     ]
    }
   ],
   "source": [
    "ingresos = [100, \"HHH\", 500, 100, 600, 900, 150]\n",
    "gastos = [50, 20, 70, 0, 25]\n",
    "\n",
    "resultado = []\n",
    "\n",
    "longitud = max(len(ingresos), len(gastos))  # Comparamos tamaños de las listas para ver cual es la mayor\n",
    "\n",
    "for i in range(longitud):\n",
    "    try:\n",
    "        ingreso = ingresos[i]\n",
    "        gasto = gastos[i]\n",
    "\n",
    "        if not isinstance(ingreso, (int, float)) or not isinstance(gasto, (int, float)): #isinstance nos ayuda a comprobar si un valor (o variable) es de un tipo de dato específico.\n",
    "            resultado.append(\"Dato no numérico\")\n",
    "        elif gasto == 0:\n",
    "            resultado.append(\"División por cero\")\n",
    "        else:\n",
    "            resultado.append(ingreso / gasto)\n",
    "\n",
    "    except IndexError:\n",
    "        resultado.append(\"Dato faltante\")  # cuando una lista es más corta\n",
    "\n",
    "print(\"Los resultados de los ratios con sus errores son los siguientes\", resultado)"
   ]
  }
 ],
 "metadata": {
  "kernelspec": {
   "display_name": "Python 3",
   "language": "python",
   "name": "python3"
  },
  "language_info": {
   "codemirror_mode": {
    "name": "ipython",
    "version": 3
   },
   "file_extension": ".py",
   "mimetype": "text/x-python",
   "name": "python",
   "nbconvert_exporter": "python",
   "pygments_lexer": "ipython3",
   "version": "3.10.11"
  }
 },
 "nbformat": 4,
 "nbformat_minor": 4
}
