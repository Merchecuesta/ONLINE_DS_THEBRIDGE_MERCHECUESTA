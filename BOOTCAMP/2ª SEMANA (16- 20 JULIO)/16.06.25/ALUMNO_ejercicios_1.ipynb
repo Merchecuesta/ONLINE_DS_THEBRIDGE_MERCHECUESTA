{
 "cells": [
  {
   "cell_type": "markdown",
   "id": "bd4e174d",
   "metadata": {},
   "source": [
    "#### Ejercicio 1\n",
    "\n",
    "Escribe un programa que simule un libro de \"sigue tu propia aventura\".\n",
    "\n",
    "Solo se pide control de flujo y uso de print().\n",
    "El programa tiene dos variables:\n",
    "\n",
    "puerta --> es una variable de tipo entero\n",
    "\n",
    "amuleto --> es una variable booleana\n",
    "\n",
    "Si la puerta que eliges es la 1, imprime \"has perdido\"\n",
    "\n",
    "Si la puerta que eliges es la 2 y tienes el amuleto (verdadero), imprime \"has ganado\"\n",
    "\n",
    "En cualquier otro caso, imprime \"sigue jugando\"\n",
    "\n",
    "Haz este programa de dos formas: usando un AND y sin usar un AND\n",
    "\n",
    "Nota: no son necesarias funciones. Puedes declarar puerta y amuleto al principio de tu programa."
   ]
  },
  {
   "cell_type": "code",
   "execution_count": 22,
   "id": "22cc5bdf",
   "metadata": {},
   "outputs": [
    {
     "name": "stdout",
     "output_type": "stream",
     "text": [
      "Sigue jugando\n"
     ]
    }
   ],
   "source": [
    "# Libro \"Sigue tu propia aventura\" con AND\n",
    "puerta = int(input(\"Por favor, elige una puerta entre la 1 y la 2:\"))\n",
    "amuleto = False\n",
    "\n",
    "if puerta == 1:\n",
    "    print(\"Has perdido :(\")\n",
    "elif puerta == 2 and amuleto == True:\n",
    "    print(\"¡Has ganado!\")\n",
    "else:\n",
    "    print(\"Sigue jugando\")\n",
    "\n",
    "\n",
    "        "
   ]
  },
  {
   "cell_type": "code",
   "execution_count": null,
   "id": "aabbdd9a",
   "metadata": {},
   "outputs": [
    {
     "name": "stdout",
     "output_type": "stream",
     "text": [
      "Sigue jugando\n"
     ]
    }
   ],
   "source": [
    "#Libro \"Sigue tu propia aventura\" sin AND\n",
    "\n",
    "puerta = int(input(\"Por favor, elige una puerta entre la 1 y la 2:\"))\n",
    "amuleto = True\n",
    "\n",
    "if puerta == 1:\n",
    "    print(\"Has perdido :(\")\n",
    "if puerta == 2:\n",
    "    if amuleto == True:\n",
    "        print(\"¡Has ganado!\")\n",
    "    else:\n",
    "        print(\"Sigue jugando\")\n"
   ]
  },
  {
   "cell_type": "markdown",
   "id": "11d90e03",
   "metadata": {},
   "source": [
    "#### Ejercicio 2\n",
    "\n",
    "Programa un diccionario vacío que se llame d.\n",
    "Añádele los siguientes claves y valores:\n",
    "\n",
    "\"id\" --> 1, \"hora\" --> \"mañana\", \"canciones_escuchadas\" --> una lista con 2 elementos que son \"canción1\" y \"canción2\"\n",
    "\n",
    "Imprime todas las claves, todos los valores y todos los pares clave-valor\n"
   ]
  },
  {
   "cell_type": "code",
   "execution_count": 5,
   "id": "f7c10c85",
   "metadata": {},
   "outputs": [],
   "source": [
    "d = {}\n",
    "\n",
    "d[\"id\"] =1 \n",
    "d[\"hora\"] =\"mañana\"\n",
    "d[\"canciones_escuchadas\"] = [\"canción1\", \"canción2\"]"
   ]
  },
  {
   "cell_type": "code",
   "execution_count": 6,
   "id": "f279f749",
   "metadata": {},
   "outputs": [
    {
     "name": "stdout",
     "output_type": "stream",
     "text": [
      "dict_keys(['id', 'hora', 'canciones_escuchadas'])\n",
      "1\n",
      "mañana\n",
      "['canción1', 'canción2']\n",
      "dict_values([1, 'mañana', ['canción1', 'canción2']])\n",
      "dict_items([('id', 1), ('hora', 'mañana'), ('canciones_escuchadas', ['canción1', 'canción2'])])\n"
     ]
    }
   ],
   "source": [
    "# Imprime todas las claves\n",
    "print(d.keys())\n",
    "# Imprime todos los valores (puede ser accediendo uno a uno así):\n",
    "print(d[\"id\"])\n",
    "print(d[\"hora\"])\n",
    "print(d[\"canciones_escuchadas\"])\n",
    "# Imprime todos los valores a la vez\n",
    "print(d.values())\n",
    "# Imprime todos los pares clave - valor\n",
    "print(d.items())\n"
   ]
  },
  {
   "cell_type": "markdown",
   "metadata": {},
   "source": [
    "\n",
    "#### Ejercicio 3\n",
    "\n",
    "Crea una **función que reciba por parámetro** una lista de strings. Los strings pueden valer \"rojo\", \"verde\", \"amarillo\".\n",
    "\n",
    "La función debe devolver otra lista de strings, donde si el string original era \"rojo\" la salida debe ser \"stop\", si era \"verde\" la salida debe ser \"avance\" y si era \"amarillo\" debe ser \"precaución\"."
   ]
  },
  {
   "cell_type": "code",
   "execution_count": 53,
   "metadata": {},
   "outputs": [],
   "source": [
    "lista = [\"verde\", \"amarillo\",\"rojo\"]\n",
    "lista_nueva = []\n",
    "\n",
    "def mi_funcion (lista):\n",
    "    for i in lista:\n",
    "        if i == \"rojo\":\n",
    "            lista_nueva.append(\"stop\")\n",
    "        elif i == \"verde\":\n",
    "            lista_nueva.append(\"avance\")\n",
    "        else:\n",
    "            lista_nueva.append(\"precaucion\")\n",
    "    return lista_nueva\n",
    "    "
   ]
  },
  {
   "cell_type": "code",
   "execution_count": 54,
   "id": "1e2dca94",
   "metadata": {},
   "outputs": [
    {
     "data": {
      "text/plain": [
       "['avance', 'precaucion', 'stop']"
      ]
     },
     "execution_count": 54,
     "metadata": {},
     "output_type": "execute_result"
    }
   ],
   "source": [
    "mi_funcion(lista)"
   ]
  },
  {
   "cell_type": "markdown",
   "id": "460a4229",
   "metadata": {},
   "source": [
    "\n",
    "#### Ejercicio 4\n",
    "\n",
    "Crea un programa que simule un carrusel infantil.\n",
    "\n",
    "El carrusel infantil tiene 3 posibles cochecitos: barco - bomberos - avioneta (una variable global de tipo lista, fuera de tu función).\n",
    "\n",
    "Debes escribir una **FUNCIÓN** llamada carrusel que tenga dos parámetros de entrada: el cochecito que eliges (puede valer el string barco, bomberos o avioneta) y un segundo parámetro llamado vueltas que es un entero.\n",
    "\n",
    "Tu función carrusel NO debe retornar nada, pero debe llamar internamente a coloca(cochecito), ya te lo doy programado. Si sientas al niño en \"avioneta\" y pones 3 vueltas, la función debería imprimir:\n",
    "\n",
    "\"vuelta 1: avioneta - barco - bomberos\"\n",
    "\n",
    "\"vuelta 2: avioneta - barco - bomberos\"\n",
    "\n",
    "\"vuelta 3: avioneta - barco - bomberos\"\n",
    "\n",
    "Se valorará positivamente que haya **UN BUCLE WHILE**.\n",
    "Si no te acaba de funcionar llamando a coloca(cochecito) tras un tiempo prudencial, escribe tu código sin usarlo."
   ]
  },
  {
   "cell_type": "code",
   "execution_count": 2,
   "id": "37dddc13",
   "metadata": {},
   "outputs": [
    {
     "name": "stdout",
     "output_type": "stream",
     "text": [
      "['bomberos', 'avioneta', 'barco']\n",
      "['avioneta', 'barco', 'bomberos']\n",
      "['barco', 'bomberos', 'avioneta']\n"
     ]
    }
   ],
   "source": [
    "lista_carrusel = [\"barco\", \"bomberos\", \"avioneta\"]\n",
    "\n",
    "def coloca(cochecito):\n",
    "    if cochecito == \"barco\":\n",
    "        return lista_carrusel\n",
    "    elif cochecito == \"bomberos\" or cochecito == \"avioneta\":\n",
    "        elemento = lista_carrusel.pop(0)\n",
    "        lista_carrusel.append(elemento)\n",
    "    if cochecito == \"avioneta\":\n",
    "        elemento = lista_carrusel.pop(0)\n",
    "        lista_carrusel.append(elemento)\n",
    "    return lista_carrusel\n",
    "\n",
    "\n",
    "def carrusel (cochecito, vueltas=0):\n",
    "    vueltas = 0\n",
    "    while vueltas < 3:\n",
    "        inicio = coloca(cochecito)\n",
    "        print(lista_carrusel)\n",
    "        vueltas +=1\n",
    "\n",
    "carrusel(\"bomberos\")"
   ]
  },
  {
   "cell_type": "code",
   "execution_count": 55,
   "id": "bcd8eef9",
   "metadata": {},
   "outputs": [],
   "source": [
    "lista_carrusel = [\"barco\", \"bomberos\", \"avioneta\"]\n",
    "\n",
    "def coloca(cochecito):\n",
    "    if cochecito == \"barco\":\n",
    "        return lista_carrusel\n",
    "    elif cochecito == \"bomberos\" or cochecito == \"avioneta\":\n",
    "        elemento = lista_carrusel.pop(0)\n",
    "        lista_carrusel.append(elemento)\n",
    "    if cochecito == \"avioneta\":\n",
    "        elemento = lista_carrusel.pop(0)\n",
    "        lista_carrusel.append(elemento)\n",
    "    return lista_carrusel\n",
    "\n",
    "# CÓDIGO\n",
    "\n",
    "#carrusel(\"avioneta\", 3)\n",
    "\n",
    "    "
   ]
  },
  {
   "cell_type": "markdown",
   "id": "b387a519",
   "metadata": {},
   "source": [
    "\n",
    "#### Ejercicio 5\n",
    "Crea un programa que pida una contraseña por teclado e indique si es correcta\n",
    "o incorrecta con un print(). La contraseña correcta es “python”. Si la contraseña era incorrecta la pide de nuevo hasta 3 veces como máximo. Si al tercer intento no se acierta, debe ponerse a None y poner en un print() que la cuenta se ha bloqueado. Si se consigue entrar, se muestra que es correcta en un print(). Debe haber como mínimo un **BUCLE WHILE**\n"
   ]
  },
  {
   "cell_type": "code",
   "execution_count": null,
   "id": "a528b115",
   "metadata": {},
   "outputs": [
    {
     "name": "stdout",
     "output_type": "stream",
     "text": [
      "Su cuenta se ha bloqueado por motivos de seguridad. Por favor contacte con su banco\n"
     ]
    }
   ],
   "source": [
    "contrasenia_correcta = \"Python\"\n",
    "contrasenia_cliente = input(\"Por favor, introduzca su contraseña:\")\n",
    "intentos = 1\n",
    "intentos_max = 3\n",
    "\n",
    "while intentos <= intentos_max:\n",
    "    if contrasenia_correcta == contrasenia_cliente:\n",
    "        print(\"Su contraseña es correcta\")\n",
    "        break\n",
    "    else:\n",
    "        if contrasenia_correcta != contrasenia_cliente:\n",
    "            contrasenia_cliente = input(\"Por favor, introduzca de nuevo su contraseña:\")\n",
    "            intentos +=1\n",
    "            if intentos == intentos_max:\n",
    "                print(\"Su cuenta se ha bloqueado por motivos de seguridad. Por favor contacte con su banco\")   \n",
    "\n"
   ]
  },
  {
   "cell_type": "markdown",
   "id": "c0cbed17",
   "metadata": {},
   "source": [
    "#### Ejercicio 6\n",
    "Crea una clase Flor que instancia todos los atributos como parámetros del constructor.\n",
    "Atributos:\n",
    "\n",
    "nombre --> string que es el nombre de la flor\n",
    "\n",
    "venenosa --> un booleano que indica si es venenosa\n",
    "\n",
    "lista_viveros --> una lista de strings que son los viveros donde se puede comprar\n",
    "\n",
    "métodos de la clase:\n",
    "\n",
    "cantidad_de_viveros --> sin parámetros de entrada, devuelve un entero que es en cuántos sitios se puede comprar\n",
    "\n",
    "imprime_info --> con un parámetro de entrada que es un string llamado *nombre*, no devuelve ningún valor pero imprime el mensaje \"Hola *nombre*, la flor *flor* es/no es venenosa y se puede comprar en X viveros\"\n",
    "\n",
    "donde *nombre* es el parámetro de entrada, *flor* es el nombre de la flor, es/no es venenosa depende de la flor (tiene que estar ajustado a la flor) y X es el número de viveros donde se puede comprar.\n",
    "El constructor **DEBE** tener valores por defecto.\n",
    "\n",
    "Crea una flor por defecto e imprime su información.\n",
    "Nota: No te preocupes si la sintaxis no es perfecta.\n",
    "Esto es válido:\n",
    "\n",
    "Hola Alberto la flor rosa no es venenosa y se puede comprar en 1 viveros"
   ]
  },
  {
   "cell_type": "code",
   "execution_count": 48,
   "id": "6d8e782a",
   "metadata": {},
   "outputs": [],
   "source": [
    "\n",
    "class Flor:\n",
    "\n",
    "    def __init__(self, nombre: str, venenosa: bool, lista_viveros):\n",
    "        self.nombre = nombre\n",
    "        self.venenosa = venenosa\n",
    "        self.lista_viveros = lista_viveros\n",
    "\n",
    "    def cantidad_de_viveros(self):\n",
    "        return(len(self.lista_viveros))\n",
    "    \n",
    "    def imprime_info(self, nombre):\n",
    "        print(f\"Hola {nombre}, la flor {self.nombre} {\"es venenosa\" if self.venenosa else \"no es venenosa\"} y se puede comprar en {self.cantidad_de_viveros()} viveros\")"
   ]
  },
  {
   "cell_type": "code",
   "execution_count": 49,
   "id": "79f0fe55",
   "metadata": {},
   "outputs": [],
   "source": [
    "flor1 = Flor(\"Rosa\", False, (\"Mairena\", \"Sevilla\", \"Camas\"))"
   ]
  },
  {
   "cell_type": "code",
   "execution_count": 50,
   "id": "f80aa36b",
   "metadata": {},
   "outputs": [
    {
     "data": {
      "text/plain": [
       "3"
      ]
     },
     "execution_count": 50,
     "metadata": {},
     "output_type": "execute_result"
    }
   ],
   "source": [
    "flor1.cantidad_de_viveros()"
   ]
  },
  {
   "cell_type": "code",
   "execution_count": 51,
   "id": "baaf154b",
   "metadata": {},
   "outputs": [
    {
     "name": "stdout",
     "output_type": "stream",
     "text": [
      "Hola Merche, la flor Rosa no es venenosa y se puede comprar en 3 viveros\n"
     ]
    }
   ],
   "source": [
    "flor1.imprime_info(\"Merche\")"
   ]
  },
  {
   "cell_type": "markdown",
   "id": "abbb2218",
   "metadata": {},
   "source": [
    "#### Ejercicio 7\n",
    "\n",
    "Usando el map de programación funcional y la buit-in function reversed (como mínimo):\n",
    "\n",
    "Escribe un programa que recibe una lista de strings y devuelve una tupla con cada string dado la vuelta. **NO SE PUEDEN USAR BUCLES**\n",
    "\n",
    "Ejemplo:\n",
    "\n",
    "[\"hola\", \"adiós\"] --> (\"aloh\", \"sóida\")\n",
    "\n",
    "Pista: si yo fuera tú, usaría un método de los string que sirve para unir, ¡y usaría más de un map!"
   ]
  },
  {
   "cell_type": "code",
   "execution_count": 43,
   "id": "1eacf961",
   "metadata": {},
   "outputs": [
    {
     "data": {
      "text/plain": [
       "('aloh', 'sóida')"
      ]
     },
     "execution_count": 43,
     "metadata": {},
     "output_type": "execute_result"
    }
   ],
   "source": [
    "\n"
   ]
  },
  {
   "cell_type": "markdown",
   "id": "c481d9aa",
   "metadata": {},
   "source": [
    "#### Ejercicio 8 (EXTRA)\n",
    "\n",
    "Escribe un programa que trabaje con 3 listas:\n",
    "\n",
    "La lista ***grupo_musical*** contiene strings.\n",
    "\n",
    "La lista ***generos*** contiene strings.\n",
    "\n",
    "La lista ***anios*** puede contener un entero o tuplas.\n",
    "\n",
    "Ejemplo de datos:\n",
    "\n",
    ">\"ABBA\"\n",
    ">\n",
    ">\"pop\"\n",
    ">\n",
    ">(1972, 1982)\n",
    "\n",
    "Otro ejemplo:\n",
    "\n",
    ">\"Madonna\"\n",
    ">\n",
    ">\"pop\"\n",
    ">\n",
    ">1983\n",
    "\n",
    "Otro ejemplo:\n",
    "\n",
    ">\"Kölsch\"\n",
    ">\n",
    ">\"electronica\"\n",
    ">\n",
    ">1995\n",
    "\n",
    "Un grupo musical solo puede tener un género musical.\n",
    "Un grupo musical debe tener como mínimo un año de formación, que es un entero.\n",
    "Un grupo musical, si tuviese año de disolución, la información se guardaría en una tupla.\n",
    "\n",
    "Se pide implementar:\n",
    "\n",
    "a. Una función llamada *inserta* que acepte 4 parámetros (grupo, genero, comienzo, fin). El fin por defecto debe ser un objeto nulo. El grupo se inserta en la lista de grupos. El genero se inserta en la lista de géneros. El comienzo o comienzo y fin se inserta en la lista de años. La función no tiene valor retornado.\n",
    "\n",
    "b. Una función *busca_genero* con un parámetro de tipo string (genero) y devuelve una lista con todos los grupos de ese género.\n",
    "\n",
    "c. Una función *busca_grupos* con un parámetro booleano llamado *activos* con un valor por defecto verdadero. Cuando el valor es verdadero, devuelve solo los grupos activos en una lista. Cuando *activos* es falso, devuelve todos los grupos disueltos en una lista.\n",
    "\n",
    "d. Una función *busca_genero_indice* con un parámetro de tipo string (genero) que devuelve una lista con los índices donde se encuentra ese género.\n",
    "\n",
    "e. Una función *filtra_listas_genero* con un parámetro de tipo string (genero) que devuelve una tupla con las 3 listas filtradas y ***llame*** a busca_genero_indice\n",
    "\n",
    "f. Una función *anios_activos* que no tenga parámetros de entrada ni valor retornado que imprima línea a línea la información: grupo musical ---> años activos. Es decir: \n",
    "\n",
    ">ABBA ---> 10 años activos\n",
    ">\n",
    ">Madonna --> 42 años activos\n",
    ">\n",
    ">Kölsch --> 27 años activos\n",
    "\n",
    "\n",
    "Nota: si no te sale un apartado después de un tiempo prudencial, ¡pasa al siguiente!"
   ]
  },
  {
   "cell_type": "code",
   "execution_count": null,
   "id": "c0d3ec0c",
   "metadata": {},
   "outputs": [],
   "source": [
    "grupo_musical = [\"ABBA\",\"Madonna\",\"Kölsch\"]\n",
    "genero_musical = [\"pop\", \"pop\", \"electronica\"]\n"
   ]
  },
  {
   "cell_type": "code",
   "execution_count": null,
   "id": "94cb255c",
   "metadata": {},
   "outputs": [
    {
     "name": "stdout",
     "output_type": "stream",
     "text": [
      "pop ['ABBA', 'Madonna']\n",
      "electronica ['Kölsch']\n",
      "activos ['Madonna', 'Kölsch']\n",
      "disueltos ['ABBA']\n",
      "indices pop [0, 1]\n",
      "indices electronica [2]\n",
      "pop ['ABBA', 'Madonna']\n",
      "pop ['pop', 'pop']\n",
      "pop [(1972, 1982), 1983]\n",
      "ABBA --> 10 años totales\n",
      "Madonna --> 42 años totales\n",
      "Kölsch --> 30 años totales\n"
     ]
    }
   ],
   "source": [
    "# Código\n",
    "        \n",
    "# comprobamos\n",
    "\n",
    "inserta(\"ABBA\", \"pop\",1972,1982)\n",
    "inserta(\"Madonna\",\"pop\",1983)\n",
    "inserta(\"Kölsch\",\"electronica\",1995)\n",
    "\n",
    "print(\"pop\", busca_genero(\"pop\"))\n",
    "print(\"electronica\", busca_genero(\"electronica\"))\n",
    "\n",
    "print(\"activos\", busca_grupos())\n",
    "print(\"disueltos\", busca_grupos(False))\n",
    "\n",
    "print(\"indices pop\", busca_genero_indice(\"pop\"))\n",
    "print(\"indices electronica\", busca_genero_indice(\"electronica\"))\n",
    "\n",
    "l1,l2,l3 = filtra_listas_genero(\"pop\")\n",
    "print(\"pop\", l1)\n",
    "print(\"pop\", l2)\n",
    "print(\"pop\", l3)\n",
    "\n",
    "anios_activos()\n",
    "\n",
    "\n"
   ]
  }
 ],
 "metadata": {
  "kernelspec": {
   "display_name": "Python 3",
   "language": "python",
   "name": "python3"
  },
  "language_info": {
   "codemirror_mode": {
    "name": "ipython",
    "version": 3
   },
   "file_extension": ".py",
   "mimetype": "text/x-python",
   "name": "python",
   "nbconvert_exporter": "python",
   "pygments_lexer": "ipython3",
   "version": "3.13.5"
  }
 },
 "nbformat": 4,
 "nbformat_minor": 5
}
