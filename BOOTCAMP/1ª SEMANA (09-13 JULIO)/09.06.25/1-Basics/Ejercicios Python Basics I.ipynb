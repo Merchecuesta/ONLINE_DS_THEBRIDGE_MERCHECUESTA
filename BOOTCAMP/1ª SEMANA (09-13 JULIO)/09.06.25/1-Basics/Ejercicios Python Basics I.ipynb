{
 "cells": [
  {
   "cell_type": "markdown",
   "metadata": {},
   "source": [
    "![imagen](./img/ejercicios.png)"
   ]
  },
  {
   "cell_type": "markdown",
   "metadata": {},
   "source": [
    "# Ejercicios Python Basics I"
   ]
  },
  {
   "cell_type": "markdown",
   "metadata": {},
   "source": [
    "## Ejercicio 1\n",
    "Imprime por pantalla esta cita con el siguiente formato\n",
    "\n",
    "![imagen](./img/frase_Einstein.PNG)"
   ]
  },
  {
   "cell_type": "code",
   "execution_count": 11,
   "metadata": {},
   "outputs": [
    {
     "name": "stdout",
     "output_type": "stream",
     "text": [
      "¿Por qué esta magnífica tecnología científica,\n",
      "\t que ahorra trabajo y nos hace la vida más fácil,\n",
      "\t \t nos aporta tan poca felicidad?\n",
      "\t \t \t La respuesta es esta, simplemente: porque aún no hemos aprendido a usarla con tino.\n",
      "\"Albert Einstein\"\n"
     ]
    }
   ],
   "source": [
    "print(\"¿Por qué esta magnífica tecnología científica,\\n\\\n",
    "\\t que ahorra trabajo y nos hace la vida más fácil,\\n\\\n",
    "\\t \\t nos aporta tan poca felicidad?\\n\\\n",
    "\\t \\t \\t La respuesta es esta, simplemente: porque aún no hemos aprendido a usarla con tino.\\n\\\n",
    "\\\"Albert Einstein\\\"\")"
   ]
  },
  {
   "cell_type": "markdown",
   "metadata": {},
   "source": [
    "## Ejercicio 2\n",
    "1. Escribe el nombre de la calle de tu domicilio\n",
    "2. Escribe el numero de la calle en otra\n",
    "3. Población en una tercera\n",
    "4. Codigo postal en la cuarta variable\n",
    "5. Crea una quinta variable que concatene todas ellas\n",
    "6. Imprimela por pantalla"
   ]
  },
  {
   "cell_type": "code",
   "execution_count": 17,
   "metadata": {},
   "outputs": [
    {
     "name": "stdout",
     "output_type": "stream",
     "text": [
      "Blas Infante 10 Estepona 29680\n"
     ]
    }
   ],
   "source": [
    "Mi_domicilio = \"Blas Infante\"\n",
    "Numero = 10\n",
    "Numero_str = str(10)\n",
    "Poblacion = \"Estepona\"\n",
    "CP = 29680\n",
    "CP_str = str (29680)\n",
    "Direccion_completa = Mi_domicilio + \" \" + Numero_str + \" \" + Poblacion + \" \" + CP_str\n",
    "print(Direccion_completa)"
   ]
  },
  {
   "cell_type": "markdown",
   "metadata": {},
   "source": [
    "## Ejercicio 3\n",
    "Replica el output del ejercicio dos, pero está vez sin usar una variable intermedia que concatene todas las demas. Realiza este ejercicio en una línea, con un  único `print`"
   ]
  },
  {
   "cell_type": "code",
   "execution_count": 20,
   "metadata": {},
   "outputs": [
    {
     "name": "stdout",
     "output_type": "stream",
     "text": [
      "Blas Infante 10 Estepona 29680\n"
     ]
    }
   ],
   "source": [
    "print(Mi_domicilio, Numero_str, Poblacion, CP_str)"
   ]
  },
  {
   "cell_type": "markdown",
   "metadata": {},
   "source": [
    "## Ejercicio 4\n",
    "¿Qué variables están mal escritas y por qué? Realiza primero tu hipótesis y luego ejecuta las variables para comprobarlo. En ese orden :)\n",
    "\n",
    "\n",
    "1. mi_variable = \"Economía\"\n",
    "2. otra_var = \"Ejercicio\n",
    "3. True = \"Ejercicio\"\n",
    "4. mi variab1e = \"Alpha\"\n",
    "5. exec = True\n",
    "6. import = 40\n",
    "7. 81mi_variable = \"Agua\"\n",
    "8. mi_variable10 = 6\n"
   ]
  },
  {
   "cell_type": "markdown",
   "metadata": {},
   "source": [
    "HIPOTESIS\n",
    "\n",
    "1. La variable mi_variable es correcta. Es una variable de tipo str y la deficinión de la variable está ok, ya que no usa números al principio ni espacios ni palabras prohibidas por Pyhton\n",
    "2. La variable otra_var es incorrecta. Es una variable de tipo str y le falta \" de cierre. \n",
    "3. True es una variable nombrada incorrectamente puesto que es una palabra reservada por Phyton\n",
    "4. La variable mi variab1e es incorrecta puesto que usa espacios entre las palabras y Phyton creerá que son dos variables. Además quizás haya un error de sintaxis hecho por el creador en el que ha equivocado el 1 por la l\n",
    "5. La variable exec es correcta. Es una variable tipo bool . ojo! exec es reservada pero puede sobreescribirse\n",
    "6. La variable import es incorrecta. impor es una palabra reservada por Phyton\n",
    "7. La variable 81mi_variable = \"Agua\" dará error, no es correcta puesto que empieza por un número y Python creerá que es un número y no sabrá como tratarla\n",
    "8. La variable mi_variable10 es una variable de tipo int y es correcta "
   ]
  },
  {
   "cell_type": "markdown",
   "metadata": {},
   "source": [
    "## Ejercicio 5\n",
    "Realiza un conversor de grados Celsius a Fahrenheit. El conversor tiene que recibir el input del usuario y devolver la conversión.\n",
    "\n",
    "La conversión de grados sigue la siguiente fórmula: F = (C × 9 / 5) + 32 "
   ]
  },
  {
   "cell_type": "code",
   "execution_count": 3,
   "metadata": {},
   "outputs": [
    {
     "name": "stdin",
     "output_type": "stream",
     "text": [
      "Por favor, introduzca los Cº: 52\n"
     ]
    },
    {
     "name": "stdout",
     "output_type": "stream",
     "text": [
      "125.6\n"
     ]
    }
   ],
   "source": [
    "Grados_Celsius = input(\"Por favor, introduzca los Cº:\")#pide al usuario el dato y devuelve una cadena con \",\" o sin ellas\n",
    "Grados_Celsius.replace(',', '.') #introduce el valor como cadena y cambia la , por el . para el float\n",
    "Grados_Celsius = float(Grados_Celsius) #convierte str en float\n",
    "F = (Grados_Celsius * 9 / 5) + 32 #hace la conversión\n",
    "print(F) # imprime el resultado"
   ]
  },
  {
   "cell_type": "markdown",
   "metadata": {},
   "source": [
    "## Ejercicio 6\n",
    "Comenta en la medida de lo posible el Ejercicio 5. Será suficiente con poner al menos un comentario de línea, y otro multilínea"
   ]
  },
  {
   "cell_type": "code",
   "execution_count": 5,
   "metadata": {},
   "outputs": [
    {
     "name": "stdin",
     "output_type": "stream",
     "text": [
      "Por favor, introduzca los Cº: 25\n"
     ]
    },
    {
     "name": "stdout",
     "output_type": "stream",
     "text": [
      "77.0\n"
     ]
    }
   ],
   "source": [
    "#pide al usuario el dato y devuelve una cadena con \",\" o sin ellas\n",
    "Grados_Celsius = input(\"Por favor, introduzca los Cº:\")\n",
    "#introduce el valor como cadena y cambia la , por el . para el float\n",
    "Grados_Celsius.replace(',', '.') \n",
    "#convierte str en float\n",
    "Grados_Celsius = float(Grados_Celsius)\n",
    "\"\"\"\n",
    "Esta fórmula hace la conversión\n",
    "Nos la da como ayuda el enunciado\n",
    "F = (C × 9 / 5) + 32\n",
    "Yo solo he cambiado la C por el nombre de mi variable donde el usuario ha introducido su dato\n",
    "\"\"\"\n",
    "F = (Grados_Celsius * 9 / 5) + 32 \n",
    "print(F) # imprime el resultado\n"
   ]
  },
  {
   "cell_type": "code",
   "execution_count": null,
   "metadata": {},
   "outputs": [],
   "source": []
  }
 ],
 "metadata": {
  "kernelspec": {
   "display_name": "Python 3 (ipykernel)",
   "language": "python",
   "name": "python3"
  },
  "language_info": {
   "codemirror_mode": {
    "name": "ipython",
    "version": 3
   },
   "file_extension": ".py",
   "mimetype": "text/x-python",
   "name": "python",
   "nbconvert_exporter": "python",
   "pygments_lexer": "ipython3",
   "version": "3.10.11"
  },
  "vscode": {
   "interpreter": {
    "hash": "252189e587d1e2aeba4a06e91fa71896c7a7f6e22e918b9407c7cde4ef2d5985"
   }
  }
 },
 "nbformat": 4,
 "nbformat_minor": 4
}
