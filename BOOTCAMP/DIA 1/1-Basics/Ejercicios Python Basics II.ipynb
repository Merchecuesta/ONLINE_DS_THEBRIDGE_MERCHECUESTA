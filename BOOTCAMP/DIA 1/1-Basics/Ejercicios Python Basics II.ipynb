{
 "cells": [
  {
   "attachments": {},
   "cell_type": "markdown",
   "metadata": {},
   "source": [
    "![imagen](./img/ejercicios.png)"
   ]
  },
  {
   "attachments": {},
   "cell_type": "markdown",
   "metadata": {},
   "source": [
    "# Ejercicios Python Basics II"
   ]
  },
  {
   "attachments": {},
   "cell_type": "markdown",
   "metadata": {},
   "source": [
    "## Ejercicio 1\n",
    "* Crea dos variables numericas: un `int` y un `float`\n",
    "* Comprueba sus tipos\n",
    "* Sumalas en otra nueva\n",
    "* ¿De qué tipo es la nueva variable?\n",
    "* Elimina las dos primeras variables creadas"
   ]
  },
  {
   "cell_type": "code",
   "execution_count": 2,
   "metadata": {},
   "outputs": [
    {
     "name": "stdout",
     "output_type": "stream",
     "text": [
      "<class 'int'>\n",
      "<class 'float'>\n",
      "<class 'float'>\n"
     ]
    }
   ],
   "source": [
    "num = 25\n",
    "num_dec = 1.2\n",
    "print(type(num))\n",
    "print(type(num_dec))\n",
    "suma = num + num_dec\n",
    "print(type(suma))\n",
    "del num\n",
    "del num_dec"
   ]
  },
  {
   "attachments": {},
   "cell_type": "markdown",
   "metadata": {},
   "source": [
    "## Ejercicio 2\n",
    "Escribe un programa para pasar de grados a radianes. Hay que usar `input`. Recuerda que la conversión se realiza mediante\n",
    "\n",
    "radianes = grados*(pi/180)"
   ]
  },
  {
   "cell_type": "code",
   "execution_count": 6,
   "metadata": {},
   "outputs": [
    {
     "name": "stdin",
     "output_type": "stream",
     "text": [
      "Por favor, introduzca los Cº: 52\n"
     ]
    },
    {
     "name": "stdout",
     "output_type": "stream",
     "text": [
      "0.9075712110370514\n"
     ]
    }
   ],
   "source": [
    "from math import pi\n",
    "Grados_Celsius = input(\"Por favor, introduzca los Cº:\")#pide al usuario el dato y devuelve una cadena con \",\" o sin ellas\n",
    "Grados_Celsius.replace(',', '.') #introduce el valor como cadena y cambia la , por el . para el float\n",
    "Grados_Celsius = float(Grados_Celsius) #convierte str en float\n",
    "radianes = Grados_Celsius*(pi/180) #hace la conversión\n",
    "print(radianes) # imprime el resultado"
   ]
  },
  {
   "attachments": {},
   "cell_type": "markdown",
   "metadata": {},
   "source": [
    "## Ejercicio 3\n",
    "Escribe un programa que calcule el area de un paralelogramo (base x altura). También con `input`"
   ]
  },
  {
   "cell_type": "code",
   "execution_count": 7,
   "metadata": {},
   "outputs": [
    {
     "name": "stdin",
     "output_type": "stream",
     "text": [
      "Por favor, introduzca la medida de la base en cms: 25\n",
      "Por favor, introduzca la medida de la altura en cms: 42\n"
     ]
    },
    {
     "name": "stdout",
     "output_type": "stream",
     "text": [
      "1050.0\n"
     ]
    }
   ],
   "source": [
    "base = float(input(\"Por favor, introduzca la medida de la base en cms:\"))\n",
    "altura = float(input(\"Por favor, introduzca la medida de la altura en cms:\"))\n",
    "area_paralelogramo = base*altura\n",
    "print(area_paralelogramo)"
   ]
  },
  {
   "attachments": {},
   "cell_type": "markdown",
   "metadata": {},
   "source": [
    "## Ejercicio 4\n",
    "Tenemos las siguientes variables:\n",
    "\n",
    "```Python\n",
    "A = 4\n",
    "B = \"Text\"\n",
    "C = 4.1\n",
    "```\n",
    "\n",
    "Comprueba:\n",
    "1. Si A y B son equivalentes\n",
    "2. Si A y C NO son equivalentes\n",
    "3. Si A es mayor que C \n",
    "4. Si C es menor o igual que A\n",
    "5. Si B NO es equivalente a C"
   ]
  },
  {
   "cell_type": "code",
   "execution_count": 10,
   "metadata": {},
   "outputs": [
    {
     "name": "stdout",
     "output_type": "stream",
     "text": [
      "False\n",
      "True\n",
      "False\n",
      "False\n",
      "True\n"
     ]
    }
   ],
   "source": [
    "A = 4\n",
    "B = \"Text\"\n",
    "C = 4.1\n",
    "\n",
    "A == B\n",
    "A != C\n",
    "A > C\n",
    "C <= A\n",
    "B != C\n",
    "\n",
    "print(A == B)  \n",
    "print(A != C)\n",
    "print(A > C) \n",
    "print(C <= A)\n",
    "print(B != C)"
   ]
  },
  {
   "attachments": {},
   "cell_type": "markdown",
   "metadata": {},
   "source": [
    "## Ejercicio 5\n",
    "Crea un programa donde se recojan dos inputs del usuario, y el output del programa sea si esos inputs son iguales o no"
   ]
  },
  {
   "cell_type": "code",
   "execution_count": null,
   "metadata": {},
   "outputs": [],
   "source": [
    "valor_1 = input(\"Introduzca valor 1:\")\n",
    "valor_2 = input(\"Introduzca valor 2:\")\n",
    "\n",
    "valor_1 == valor_2\n",
    "\n",
    "if valor_1 == valor_2:\n",
    "    print(\"Los valores son iguales\")\n",
    "else:\n",
    "    print(\"Los valores no son iguales\")"
   ]
  },
  {
   "attachments": {},
   "cell_type": "markdown",
   "metadata": {},
   "source": [
    "## Ejercicio 6\n",
    "Mismo programa que en 5, pero en esta ocasión tienen que ser tres inputs y dos salidas. Una de las salidas que nos indique si todos son iguales, y la otra si al menos dos inputs sí que lo son"
   ]
  },
  {
   "cell_type": "code",
   "execution_count": 3,
   "metadata": {},
   "outputs": [
    {
     "name": "stdin",
     "output_type": "stream",
     "text": [
      "Introduzca valor 1: 1\n",
      "Introduzca valor 2: 5\n",
      "Introduzca valor 3: 6\n"
     ]
    },
    {
     "name": "stdout",
     "output_type": "stream",
     "text": [
      "Los 3 valores no son iguales\n",
      "Ningún par de valores es igual\n"
     ]
    }
   ],
   "source": [
    "valor_1 = input(\"Introduzca valor 1:\")\n",
    "valor_2 = input(\"Introduzca valor 2:\")\n",
    "valor_3 = input(\"Introduzca valor 3:\")\n",
    "\n",
    "valor_1 == valor_2\n",
    "valor_1 == valor_3\n",
    "valor_2 == valor_3\n",
    "\n",
    "if valor_1 == valor_2 == valor_3:\n",
    "    print(\"Los 3 valores son iguales\")\n",
    "else:\n",
    "    print(\"Los 3 valores no son iguales\")\n",
    "\n",
    "if valor_1 == valor_2 or valor_1 == valor_3 or valor_2 == valor_3:\n",
    "    print(\"Al menos dos valores son iguales\")\n",
    "else:\n",
    "    print(\"Ningún par de valores es igual\")\n"
   ]
  },
  {
   "attachments": {},
   "cell_type": "markdown",
   "metadata": {},
   "source": [
    "## Ejercicio 7\n",
    "Crea un programa que recoja dos inputs. Tiene que comprobar si su suma es igual, superior o inferior a 10"
   ]
  },
  {
   "cell_type": "code",
   "execution_count": 31,
   "metadata": {},
   "outputs": [
    {
     "name": "stdin",
     "output_type": "stream",
     "text": [
      "Introduzca valor 1: 8\n",
      "Introduzca valor 2: 16\n"
     ]
    },
    {
     "name": "stdout",
     "output_type": "stream",
     "text": [
      "La suma de los valores es superior a 10\n"
     ]
    }
   ],
   "source": [
    "valor_1 = int(input(\"Introduzca valor 1:\")) #convierto la variable en entero a la vez que solicito el valor\n",
    "valor_2 = int(input(\"Introduzca valor 2:\"))\n",
    "\n",
    "if valor_1 + valor_2 == 10:\n",
    "    print(\"La suma de los valores es igual a 10\")\n",
    "elif valor_1 + valor_2 < 10:\n",
    "    print(\"La suma de los valores es menor a 10\")\n",
    "else:\n",
    "    print(\"La suma de los valores es superior a 10\")"
   ]
  },
  {
   "attachments": {},
   "cell_type": "markdown",
   "metadata": {},
   "source": [
    "## Ejercicio 8\n",
    "Razona sin ejecutar código el output que obtendremos de las siguientes sentencias\n",
    "1. True and True and False\n",
    "2. not ((True or False) and (True or False))\n",
    "3. (False or False or False or True) and False\n",
    "4. not False and True and not True"
   ]
  },
  {
   "attachments": {},
   "cell_type": "markdown",
   "metadata": {},
   "source": [
    "1 False\n",
    "2 False\n",
    "3 False\n",
    "4 False"
   ]
  },
  {
   "attachments": {},
   "cell_type": "markdown",
   "metadata": {},
   "source": [
    "## Ejercicio 9\n",
    "Para este ejercicio vamos a poner en práctica [las funciones built in](https://docs.python.org/3/library/functions.html).\n",
    "\n",
    "1. Calcula el máximo de la lista: [4, 6, 8, -1]\n",
    "2. Suma todos los elementos de la lista anterior\n",
    "3. Redondea este float a 3 dígitos decimales: 63.451256965\n",
    "4. Valor absoluto de: -74"
   ]
  },
  {
   "cell_type": "code",
   "execution_count": 18,
   "metadata": {},
   "outputs": [
    {
     "name": "stdout",
     "output_type": "stream",
     "text": [
      "8\n",
      "La suma total es: 17\n",
      "63.451\n",
      "63.451\n",
      "74.0\n"
     ]
    }
   ],
   "source": [
    "# 1. Calcula el máximo de la lista: [4, 6, 8, -1]\n",
    "lista = [4, 6, 8, -1]\n",
    "print(max(lista))\n",
    "\n",
    "# 2. Suma todos los elementos de la lista anterior\n",
    "lista = [4, 6, 8, -1]\n",
    "suma = 0\n",
    "for i in lista:\n",
    "    suma += i\n",
    "print (\"La suma total es:\", suma)\n",
    "\n",
    "# 3. Redondea este float a 3 dígitos decimales: 63.451256965\n",
    "num = 63.451256965\n",
    "num_ro = round(num, 3)\n",
    "print(num_ro)\n",
    "\n",
    "# 3.bis lo podría hacer así también:\n",
    "num_ro = round(63.451256965, 3)\n",
    "print(num_ro)\n",
    "\n",
    "# 4.Valor absoluto de: -74\n",
    "from math import fabs\n",
    "n = -74\n",
    "n_abs = fabs(n)\n",
    "print(n_abs)"
   ]
  },
  {
   "attachments": {},
   "cell_type": "markdown",
   "metadata": {},
   "source": [
    "## Ejercicio 10\n",
    "Para el siguiente string se pide imprimir por pantalla los siguientes casos\n",
    "\n",
    "    \"En un lugar de la Mancha, de cuyo nombre no quiero acordarme.\"\n",
    "\n",
    "1. Pásalo todo a mayúsculas\n",
    "2. Pásalo todo a minúsculas\n",
    "3. Solo la primera letra de cada palabra en mayúscula, el resto en minúscula\n",
    "4. Crea una lista dividiéndolo por sus espacios\n",
    "5. Sustituye las comas `,` por puntos y comas `;`\n",
    "6. Elimina las `a` minúsculas"
   ]
  },
  {
   "cell_type": "code",
   "execution_count": 24,
   "metadata": {},
   "outputs": [
    {
     "name": "stdout",
     "output_type": "stream",
     "text": [
      "EN UN LUGAR DE LA MANCHA, DE CUYO NOMBRE NO QUIERO ACORDARME.\n",
      "en un lugar de la mancha, de cuyo nombre no quiero acordarme.\n",
      "En Un Lugar De La Mancha, De Cuyo Nombre No Quiero Acordarme.\n",
      "['En', 'un', 'lugar', 'de', 'la', 'Mancha,', 'de', 'cuyo', 'nombre', 'no', 'quiero', 'acordarme.']\n",
      "En un lugar de la Mancha; de cuyo nombre no quiero acordarme.\n",
      "En un lugr de l Mnch, de cuyo nombre no quiero cordrme.\n"
     ]
    }
   ],
   "source": [
    "frase = \"En un lugar de la Mancha, de cuyo nombre no quiero acordarme.\"\n",
    "\n",
    "#1. Pásalo todo a mayúsculas\n",
    "frase_may = frase.upper()\n",
    "print(frase_may)\n",
    "\n",
    "#2. Pásalo todo a minúsculas\n",
    "frase_min = frase.lower()\n",
    "print(frase_min)\n",
    "\n",
    "#3. Solo la primera letra de cada palabra en mayúscula, el resto en minúscula\n",
    "frase_Mm = frase.title()\n",
    "print(frase_Mm)\n",
    "\n",
    "#4. Crea una lista dividiéndolo por sus espacios\n",
    "lista = frase.split()\n",
    "print(lista)\n",
    "\n",
    "#5. Sustituye las comas , por puntos y comas \n",
    "frase_nueva = frase.replace(\",\", \";\")\n",
    "print(frase_nueva)\n",
    "\n",
    "#6. Elimina las a minúsculas\n",
    "frase_sin_a = frase.replace(\"a\", \"\")\n",
    "print(frase_sin_a) "
   ]
  },
  {
   "attachments": {},
   "cell_type": "markdown",
   "metadata": {},
   "source": [
    "## Ejercicio 11\n",
    "1. Crea una lista con 3 elementos numéricos\n",
    "2. Añade un cuarto elemento\n",
    "3. Calcula la suma de todos\n",
    "4. Elimina el segundo elemento de la lista\n",
    "5. Añade otro elemento en la posicion 3 de la lista\n",
    "6. Crea otra lista con 4 elementos y concaténala a la que ya tenías."
   ]
  },
  {
   "cell_type": "code",
   "execution_count": 28,
   "metadata": {},
   "outputs": [
    {
     "name": "stdout",
     "output_type": "stream",
     "text": [
      "[1, 2, 3]\n",
      "[1, 2, 3, 4]\n",
      "10\n",
      "[1, 3, 4]\n",
      "[1, 3, 8, 4]\n",
      "[1, 3, 8, 4, 5, 6, 9, 13]\n"
     ]
    }
   ],
   "source": [
    "#1. Crea una lista con 3 elementos numéricos\n",
    "lista = [1,2,3]\n",
    "print(lista)\n",
    "#2. Añade un cuarto elemento\n",
    "lista.append(4)\n",
    "print(lista)\n",
    "#3. Calcula la suma de todos\n",
    "suma = 0\n",
    "for i in lista:\n",
    "    suma += i\n",
    "print(suma)\n",
    "#4. Elimina el segundo elemento de la lista\n",
    "lista.pop(1)\n",
    "print(lista)\n",
    "#5. Añade otro elemento en la posicion 3 de la lista\n",
    "lista.insert(2,8)\n",
    "print(lista)\n",
    "#6. Crea otra lista con 4 elementos y concaténala a la que ya tenías.\n",
    "lista_2 = [5,6,9,13]\n",
    "suma_listas = lista + lista_2\n",
    "print(suma_listas)"
   ]
  },
  {
   "cell_type": "code",
   "execution_count": null,
   "metadata": {},
   "outputs": [],
   "source": []
  }
 ],
 "metadata": {
  "kernelspec": {
   "display_name": "Python 3 (ipykernel)",
   "language": "python",
   "name": "python3"
  },
  "language_info": {
   "codemirror_mode": {
    "name": "ipython",
    "version": 3
   },
   "file_extension": ".py",
   "mimetype": "text/x-python",
   "name": "python",
   "nbconvert_exporter": "python",
   "pygments_lexer": "ipython3",
   "version": "3.10.11"
  }
 },
 "nbformat": 4,
 "nbformat_minor": 4
}
