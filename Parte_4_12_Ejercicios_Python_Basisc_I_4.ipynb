{
 "cells": [
  {
   "cell_type": "markdown",
   "metadata": {
    "id": "dtUnH7b2Bm00"
   },
   "source": [
    "![TheBridge_logo_RGB_color.jpg](attachment:TheBridge_logo_RGB_color.jpg)"
   ]
  },
  {
   "cell_type": "markdown",
   "metadata": {
    "id": "8UH0nLEiBm01"
   },
   "source": [
    "![imagen](./img/ejercicios.png)"
   ]
  },
  {
   "cell_type": "markdown",
   "metadata": {
    "id": "911_O9cgBm02"
   },
   "source": [
    "## EJERCICIOS PYTHON BASICO 4:\n",
    "## Funciones, métodos, listas"
   ]
  },
  {
   "cell_type": "markdown",
   "metadata": {
    "id": "xx6tdHBoBm02"
   },
   "source": [
    "Completa los siguiente ejercicios, la solución completa a los mismos se publicarán en el repo del curso a lo largo del sprint. En algunos ejercicios se muestra la solución final, para que puedas comprobar que lo has hecho bien, pero lo importante es el código que generes. ¡Vaaamos, a ello...!"
   ]
  },
  {
   "cell_type": "markdown",
   "metadata": {
    "id": "1oCxmfKwBm03"
   },
   "source": [
    "![ejercicio.png](./img/ejercicio.png)\n",
    "\n",
    "## Ejercicio 1\n",
    "Para este ejercicio vamos a poner en práctica [las funciones built in](https://docs.python.org/3/library/functions.html).\n",
    "\n",
    "1. Calcula el máximo de la lista: [4, 6, 8, -1]\n",
    "2. Suma todos los elementos de la lista anterior\n",
    "3. Redondea este float a 3 dígitos decimales: 63.451256965\n",
    "4. Valor absoluto de: -74"
   ]
  },
  {
   "cell_type": "code",
   "execution_count": 3,
   "metadata": {
    "id": "izZWVGGgBm03"
   },
   "outputs": [
    {
     "name": "stdout",
     "output_type": "stream",
     "text": [
      "El valor máximo es: 8\n",
      "La suma de la lista es: 17\n",
      "El número redondeado es: 63.451\n",
      "El numero absoluto de -74 es: 74\n"
     ]
    }
   ],
   "source": [
    "lista = [4, 6, 8, -1]\n",
    "maximo = max(lista)\n",
    "print(\"El valor máximo es:\", maximo)\n",
    "\n",
    "suma = sum(lista)\n",
    "print(\"La suma de la lista es:\", suma)\n",
    "\n",
    "num_entero = 63.451256965\n",
    "num_redondeado = round(num_entero, 3)\n",
    "print(\"El número redondeado es:\", num_redondeado)\n",
    "\n",
    "num_negativo = -74\n",
    "valor_absoluto = abs(num_negativo)\n",
    "print(\"El numero absoluto de -74 es:\", valor_absoluto)\n"
   ]
  },
  {
   "cell_type": "markdown",
   "metadata": {
    "id": "vTU4snGrBm04"
   },
   "source": [
    "![ejercicio.png](./img/ejercicio.png)\n",
    "\n",
    "## Ejercicio 2\n",
    "Para el siguiente string se pide imprimir por pantalla los siguientes casos\n",
    "\n",
    "    \"En un lugar de la Mancha, de cuyo nombre no quiero acordarme.\"\n",
    "\n",
    "1. Pásalo todo a mayúsculas\n",
    "2. Pásalo todo a minúsculas\n",
    "3. Solo la primera letra de cada palabra en mayúscula, el resto en minúscula\n",
    "4. Crea una lista dividiéndolo por sus espacios\n",
    "5. Sustituye las comas `,` por puntos y comas `;`\n",
    "6. Elimina las `a` minúsculas"
   ]
  },
  {
   "cell_type": "code",
   "execution_count": 12,
   "metadata": {
    "id": "zNwKMaAHBm05",
    "outputId": "544074fa-7268-46c4-925a-9099dd4ce7ee"
   },
   "outputs": [
    {
     "data": {
      "text/plain": [
       "'En un lugr de l Mnch, de cuyo nombre no quiero cordrme.'"
      ]
     },
     "execution_count": 12,
     "metadata": {},
     "output_type": "execute_result"
    }
   ],
   "source": [
    "frase = \"En un lugar de la Mancha, de cuyo nombre no quiero acordarme.\"\n",
    "frase.upper()\n",
    "frase.lower()\n",
    "frase.title()\n",
    "frase.split()\n",
    "frase.replace(\",\",\";\")\n",
    "frase.replace(\"a\",\"\")\n"
   ]
  },
  {
   "cell_type": "markdown",
   "metadata": {
    "id": "UgeWP3EPBm06"
   },
   "source": [
    "![ejercicio.png](./img/ejercicio.png)\n",
    "\n",
    "## Ejercicio 3\n",
    "1. Crea una lista con 3 elementos numéricos\n",
    "2. Añade un cuarto elemento\n",
    "3. Calcula la suma de todos\n",
    "4. Elimina el segundo elemento de la lista\n",
    "5. Añade otro elemento en la posicion 3 de la lista\n",
    "6. Crea otra lista con 4 elementos y concaténala a la que ya tenías.\n",
    "7. Ordena la lista de menor a mayor.\n",
    "8. BONUS: Ordena la lista de mayor a menor.  \n",
    "(*PISTA: Para hacer 8, tendrás que buscar en la información del método...*)  \n",
    "  \n",
    "  \n",
    "NOTA: Pinta por pantalla el resultado de cada paso."
   ]
  },
  {
   "cell_type": "code",
   "execution_count": 17,
   "metadata": {
    "id": "LnvjrrPABm07",
    "outputId": "85128de4-00cb-4111-c4eb-01e1f467efac"
   },
   "outputs": [
    {
     "name": "stdout",
     "output_type": "stream",
     "text": [
      "[1, 2, 3, 7]\n",
      "13\n",
      "[1, 3, 7]\n",
      "[1, 3, 40, 7]\n",
      "[1, 3, 40, 7, 5, 9, 14, 24]\n",
      "[1, 3, 5, 7, 9, 14, 24, 40]\n",
      "[40, 24, 14, 9, 7, 5, 3, 1]\n"
     ]
    }
   ],
   "source": [
    "lista = [1,2,3]\n",
    "lista.append(7)\n",
    "print(lista)\n",
    "\n",
    "suma_lista = sum(lista)\n",
    "print(suma_lista)\n",
    "\n",
    "lista.pop(1)\n",
    "print(lista)\n",
    "\n",
    "lista.insert(2,40)\n",
    "print(lista)\n",
    "\n",
    "lista_2 = [5,9,14,24]\n",
    "suma_listas = lista + lista_2\n",
    "print(suma_listas)\n",
    "\n",
    "suma_listas.sort()\n",
    "print(suma_listas)\n",
    "\n",
    "suma_listas.sort(reverse=True)\n",
    "print(suma_listas)\n"
   ]
  },
  {
   "cell_type": "code",
   "execution_count": null,
   "metadata": {},
   "outputs": [],
   "source": []
  }
 ],
 "metadata": {
  "colab": {
   "provenance": []
  },
  "kernelspec": {
   "display_name": "Python 3 (ipykernel)",
   "language": "python",
   "name": "python3"
  },
  "language_info": {
   "codemirror_mode": {
    "name": "ipython",
    "version": 3
   },
   "file_extension": ".py",
   "mimetype": "text/x-python",
   "name": "python",
   "nbconvert_exporter": "python",
   "pygments_lexer": "ipython3",
   "version": "3.10.11"
  }
 },
 "nbformat": 4,
 "nbformat_minor": 4
}
