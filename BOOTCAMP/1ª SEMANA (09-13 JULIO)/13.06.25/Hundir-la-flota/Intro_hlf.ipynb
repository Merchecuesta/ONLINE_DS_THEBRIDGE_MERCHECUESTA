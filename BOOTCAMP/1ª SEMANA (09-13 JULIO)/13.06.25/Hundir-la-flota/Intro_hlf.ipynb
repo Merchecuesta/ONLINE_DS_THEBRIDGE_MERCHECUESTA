{
 "cells": [
  {
   "cell_type": "markdown",
   "metadata": {},
   "source": [
    "![imagen](./img/hundir-la-flota-juego-de-mesa.jpg)"
   ]
  },
  {
   "cell_type": "markdown",
   "metadata": {},
   "source": [
    "En esta entrega vas a crear tu propio juego de **Hundir la flota** en Python. \n",
    "[Aquí](http://es.battleship-game.org/) podrás probarlo online."
   ]
  },
  {
   "attachments": {},
   "cell_type": "markdown",
   "metadata": {},
   "source": [
    "### En clase\n",
    "1. Crea la función `crear_tablero(tamaño)`, un tablero por defecto de 10x10 relleno del carácter \"_\" con numpy.\n",
    "2. Crea la función `colocar_barco(barco, tablero)`, que recibirá la lista de casillas de un barco y el tablero donde colocarlo. Prueba primero a posicionar un par de barcos por ejemplo en [(0,1), (1,1)] y [(1,3), (1,4), (1,5), (1,6)]. Los barcos serán Os mayúsculas. Como ves, un barco de dos posiciones de eslora y otro de cuatro.\n",
    "3. Crea la función `disparar(casilla, tablero)`, si el disparo acierta en un barco sustituye la O por una X (tocado), si es agua, sustituye la _ por una A (Agua). Prueba primero a disparar el barco de 2 casillas.\n",
    "4. Crea la función `crear_barco(eslora)`, que deberá crear una lista de casillas de un barco en función a la eslora, de forma aleatoria.\n",
    "\n",
    "### Proyecto individual\n",
    "1. Crea la función `colocar_barcos(tablero)`, que deberá de colocar la lista de barcos generados de forma aleatoria (6 barcos en total (3 barcos de eslora 2, 2 de eslora 3 y 1 eslora 4)) ¡Mucho ojo con barcos que estén superpuestos (no pueden ocupar dos barcos la misma casilla) o barcos que se salgan del tablero!\n",
    "2. Escribe el flujo completo del programa, con la dinámica de turnos y funcionalidades necesarios para jugar contra la máquina (dispara a tu tablero de forma aleatoria). Crea todas las funciones que necesites y aplica todo lo aprendido que te sea útil.\n",
    "3. Encapsula todo en un `main.py` y un `utils.py` para ejecutarlo desde terminal.\n",
    "4. Sube tu proyecto a un repositorio de github y prepara una demo (solo se podrá enseñar desde terminal) para la presentación de tu proyecto."
   ]
  },
  {
   "cell_type": "markdown",
   "metadata": {},
   "source": [
    "## Presentación\n",
    "Cada uno realizará una presentación el **lunes 16 de junio**, donde se contarán con **10 minutos máximo**, importante ceñirse al tiempo. Se tendrá que enseñar:\n",
    "1. El git clone del repositorio de github a tu ordenador y explicar las partes más relevantes del código.\n",
    "2. Una demo donde se muestre el correcto funcionamiento del código para jugar, ejecutándose desde terminal.\n",
    "3. Explicación de la lógica de las partes más relevantes del código desarrollado."
   ]
  },
  {
   "cell_type": "code",
   "execution_count": 1,
   "metadata": {},
   "outputs": [],
   "source": [
    "# !pip install numpy"
   ]
  },
  {
   "cell_type": "code",
   "execution_count": 5,
   "metadata": {},
   "outputs": [
    {
     "name": "stdout",
     "output_type": "stream",
     "text": [
      "2.3.0\n"
     ]
    }
   ],
   "source": [
    "import numpy as np\n",
    "print(np.__version__)"
   ]
  },
  {
   "cell_type": "code",
   "execution_count": 1,
   "metadata": {},
   "outputs": [
    {
     "name": "stdout",
     "output_type": "stream",
     "text": [
      "[[' ' ' ' ' ' ' ' ' ' ' ' ' ' ' ' ' ' ' ']\n",
      " [' ' ' ' ' ' ' ' ' ' ' ' ' ' ' ' ' ' ' ']\n",
      " [' ' ' ' ' ' ' ' ' ' ' ' ' ' ' ' ' ' ' ']\n",
      " [' ' ' ' ' ' ' ' ' ' ' ' ' ' ' ' ' ' ' ']\n",
      " [' ' ' ' ' ' ' ' ' ' ' ' ' ' ' ' ' ' ' ']\n",
      " [' ' ' ' ' ' ' ' ' ' ' ' ' ' ' ' ' ' ' ']\n",
      " [' ' ' ' ' ' ' ' ' ' ' ' ' ' ' ' ' ' ' ']\n",
      " [' ' ' ' ' ' ' ' ' ' ' ' ' ' ' ' ' ' ' ']\n",
      " [' ' ' ' ' ' ' ' ' ' ' ' ' ' ' ' ' ' ' ']\n",
      " [' ' ' ' ' ' ' ' ' ' ' ' ' ' ' ' ' ' ' ']]\n"
     ]
    }
   ],
   "source": [
    "#crear_tablero(tamaño)\n",
    "\n",
    "import numpy as np\n",
    "import random\n",
    "\n",
    "\n",
    "def crea_tablero(lado = 10):\n",
    "    tablero = np.full((lado,lado),\" \")\n",
    "    return tablero\n",
    "\n",
    "tablero = crea_tablero()\n",
    "print(tablero)\n"
   ]
  },
  {
   "cell_type": "code",
   "execution_count": 8,
   "metadata": {},
   "outputs": [
    {
     "data": {
      "text/plain": [
       "'\\ntablero = coloca_barco(tablero, barco1)\\ntablero = coloca_barco(tablero, barco2)\\nprint(tablero)\\n'"
      ]
     },
     "execution_count": 8,
     "metadata": {},
     "output_type": "execute_result"
    }
   ],
   "source": [
    "# colocar_barco(barco, tablero)\n",
    "\n",
    "barco1 = [(0,1),(1,1)]\n",
    "barco2 = [(1,3), (1,4), (1,5), (1,6)]\n",
    "\n",
    "def coloca_barco(tablero, barco):\n",
    "    for pieza in barco:\n",
    "        tablero[pieza] = \"O\"\n",
    "    return tablero\n",
    "\n",
    "def coloca_barco_plus(tablero, barco):\n",
    "    # Nos devuelve el tablero si puede colocar el barco, si no devuelve False, y avise por pantalla\n",
    "    tablero_temp = tablero.copy()\n",
    "    num_max_filas = tablero.shape[0]\n",
    "    num_max_columnas = tablero.shape[1]\n",
    "    for pieza in barco:\n",
    "        fila = pieza[0]\n",
    "        columna = pieza[1]\n",
    "        if fila < 0  or fila >= num_max_filas:\n",
    "            print(f\"No puedo poner la pieza {pieza} porque se sale del tablero\")\n",
    "            return False\n",
    "        if columna <0 or columna>= num_max_columnas:\n",
    "            print(f\"No puedo poner la pieza {pieza} porque se sale del tablero\")\n",
    "            return False\n",
    "        if tablero[pieza] == \"O\" or tablero[pieza] == \"X\":\n",
    "            print(f\"No puedo poner la pieza {pieza} porque hay otro barco\")\n",
    "            return False\n",
    "        tablero_temp[pieza] = \"O\"\n",
    "    return tablero_temp\n",
    "\n",
    "# así colocaría los barcos de uno en uno\n",
    "\"\"\"\n",
    "tablero = coloca_barco(tablero, barco1)\n",
    "tablero = coloca_barco(tablero, barco2)\n",
    "print(tablero)\n",
    "\"\"\"\n"
   ]
  },
  {
   "cell_type": "code",
   "execution_count": 3,
   "metadata": {},
   "outputs": [
    {
     "name": "stdout",
     "output_type": "stream",
     "text": [
      "********************\n",
      "Coloco: [(0, 1), (1, 1)]\n",
      "********************\n",
      "Coloco: [(1, 3), (1, 4), (1, 5), (1, 6)]\n"
     ]
    }
   ],
   "source": [
    "# así coloca los barcos imprimiendo un mensaje \n",
    "\n",
    "for barco in [barco1, barco2]:\n",
    "    print(\"*\"*20)\n",
    "    print(\"Coloco:\", barco)\n",
    "    tablero = coloca_barco(tablero,barco)\n",
    "    # no quiero que me enseñe el tablero print(tablero)"
   ]
  },
  {
   "cell_type": "code",
   "execution_count": 4,
   "metadata": {},
   "outputs": [
    {
     "name": "stdout",
     "output_type": "stream",
     "text": [
      "Agua\n",
      "[[' ' 'O' ' ' ' ' ' ' ' ' ' ' ' ' ' ' ' ']\n",
      " [' ' 'O' ' ' 'O' 'O' 'O' 'O' ' ' ' ' ' ']\n",
      " [' ' '-' ' ' ' ' ' ' ' ' ' ' ' ' ' ' ' ']\n",
      " [' ' ' ' ' ' ' ' ' ' ' ' ' ' ' ' ' ' ' ']\n",
      " [' ' ' ' ' ' ' ' ' ' ' ' ' ' ' ' ' ' ' ']\n",
      " [' ' ' ' ' ' ' ' ' ' ' ' ' ' ' ' ' ' ' ']\n",
      " [' ' ' ' ' ' ' ' ' ' ' ' ' ' ' ' ' ' ' ']\n",
      " [' ' ' ' ' ' ' ' ' ' ' ' ' ' ' ' ' ' ' ']\n",
      " [' ' ' ' ' ' ' ' ' ' ' ' ' ' ' ' ' ' ' ']\n",
      " [' ' ' ' ' ' ' ' ' ' ' ' ' ' ' ' ' ' ' ']]\n"
     ]
    }
   ],
   "source": [
    "# disparar(casilla, tablero)\n",
    "\n",
    "def recibir_disparo(tablero, coordenada):\n",
    "    if tablero[coordenada] == \"O\":\n",
    "        tablero[coordenada] = \"X\"\n",
    "        print(\"Tocado\")\n",
    "    elif tablero[coordenada] == \"X\":\n",
    "        print(\"Agonia, deja de perder el tiempo, dispara a otro sitio\")\n",
    "    else:\n",
    "        tablero[coordenada] = \"-\"\n",
    "        print(\"Agua\")\n",
    "\n",
    "recibir_disparo(tablero,(2,1))\n",
    "print(tablero)"
   ]
  },
  {
   "cell_type": "code",
   "execution_count": 6,
   "metadata": {},
   "outputs": [
    {
     "name": "stdout",
     "output_type": "stream",
     "text": [
      "[[' ' 'O' ' ' ' ' ' ' ' ' ' ' ' ' ' ' ' ']\n",
      " [' ' 'O' ' ' 'O' 'O' 'O' 'O' ' ' ' ' ' ']\n",
      " [' ' '-' ' ' ' ' ' ' ' ' ' ' ' ' ' ' ' ']\n",
      " [' ' ' ' ' ' ' ' ' ' ' ' ' ' ' ' ' ' ' ']\n",
      " [' ' ' ' ' ' ' ' ' ' ' ' ' ' ' ' ' ' ' ']\n",
      " [' ' ' ' ' ' ' ' ' ' ' ' ' ' ' ' ' ' ' ']\n",
      " [' ' ' ' ' ' ' ' ' ' ' ' ' ' ' ' ' ' ' ']\n",
      " [' ' ' ' ' ' ' ' ' ' ' ' ' ' ' ' ' ' ' ']\n",
      " [' ' ' ' ' ' ' ' ' ' ' ' ' ' ' ' ' ' ' ']\n",
      " [' ' ' ' ' ' ' ' ' ' ' ' ' ' ' ' ' ' ' ']]\n"
     ]
    }
   ],
   "source": [
    "# arreglar barcos\n",
    "\n",
    "def arregla_barcos(tablero):\n",
    "    tablero[tablero == \"X\"] = \"O\"\n",
    "    return tablero\n",
    "\n",
    "print(arregla_barcos(tablero))\n",
    "\n"
   ]
  },
  {
   "cell_type": "code",
   "execution_count": 9,
   "metadata": {},
   "outputs": [],
   "source": [
    "\n",
    "\n",
    "# crear_barco(eslora)\n",
    "\n",
    "def crea_barco_aleatorio(tablero,eslora = 4, num_intentos = 100):\n",
    "    num_max_filas = tablero.shape[0]\n",
    "    num_max_columnas = tablero.shape[1]\n",
    "    while True:\n",
    "        barco = []\n",
    "        # Construimos el hipotetico barco\n",
    "        pieza_original = (random.randint(0,num_max_filas-1),random.randint(0, num_max_columnas -1))\n",
    "        print(\"Pieza original:\", pieza_original)\n",
    "        barco.append(pieza_original)\n",
    "        orientacion = random.choice([\"N\",\"S\",\"O\",\"E\"])\n",
    "        print(\"Con orientacion\", orientacion)\n",
    "        fila = pieza_original[0]\n",
    "        columna = pieza_original[1]\n",
    "        for i in range(eslora -1):\n",
    "            if orientacion == \"N\":\n",
    "                fila -= 1\n",
    "            elif orientacion  == \"S\":\n",
    "                fila += 1\n",
    "            elif orientacion == \"E\":\n",
    "                columna += 1\n",
    "            else:\n",
    "                columna -= 1\n",
    "            pieza = (fila,columna)\n",
    "            barco.append(pieza)\n",
    "        tablero_temp = coloca_barco_plus(tablero, barco)\n",
    "        if type(tablero_temp) == np.ndarray:\n",
    "            return tablero_temp\n",
    "        print(\"Tengo que intentar colocar otro barco\")"
   ]
  },
  {
   "cell_type": "code",
   "execution_count": 13,
   "metadata": {},
   "outputs": [],
   "source": [
    "#Crea la función `colocar_barcos(tablero)`, que deberá de colocar la lista de barcos generados de forma aleatoria (6 barcos en total (3 barcos de eslora 2, 2 de eslora 3 y 1 eslora 4)) \\\n",
    "#¡Mucho ojo con barcos que estén superpuestos (no pueden ocupar dos barcos la misma casilla) o barcos que se salgan del tablero!\n",
    "\n",
    "\n",
    "def colocar_barcos_tablero(eslora, tablero=None):\n",
    "    if tablero is None:\n",
    "        tablero = crea_tablero(10)\n",
    "    barco = crea_barco_aleatorio(tablero, eslora)\n",
    "    return barco\n",
    "\n",
    "\n"
   ]
  }
 ],
 "metadata": {
  "kernelspec": {
   "display_name": "Python 3",
   "language": "python",
   "name": "python3"
  },
  "language_info": {
   "codemirror_mode": {
    "name": "ipython",
    "version": 3
   },
   "file_extension": ".py",
   "mimetype": "text/x-python",
   "name": "python",
   "nbconvert_exporter": "python",
   "pygments_lexer": "ipython3",
   "version": "3.13.5"
  },
  "orig_nbformat": 4
 },
 "nbformat": 4,
 "nbformat_minor": 2
}
