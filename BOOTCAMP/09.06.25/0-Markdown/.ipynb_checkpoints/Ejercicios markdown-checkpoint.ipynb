{
 "cells": [
  {
   "attachments": {},
   "cell_type": "markdown",
   "metadata": {},
   "source": [
    "## Ejercicio\n",
    "Para este ejercicio vas a crear dos nuevos elementos que no hemos visto en la teoría: una tabla y una fórmula. Busca en la web la sintaxis y replica ambos elementos. Ojo con los espacios en blanco entre la tabla y la fórmula"
   ]
  },
  {
   "attachments": {},
   "cell_type": "markdown",
   "metadata": {},
   "source": [
    "<div style=\"text-align:center\"><img src=\"./img/md_ejercicio2_vsc.png\" /></div>"
   ]
  },
  {
   "cell_type": "markdown",
   "metadata": {},
   "source": [
    "Usando Markdown puro no puedo conseguir que mi tabla tenga bordes y fondo blanco. Investigando he descubierto que he de programarla en html (que no se), dejo el ejercicio en Markdown puro mezclado con LaTeX para añadir la ecuación\n",
    "\n",
    "| **Ramp Up**    | **Data Analysis** | **Machine Learning** | **Data & Business**   |\n",
    "|----------------|-------------------|-----------------------|----------------------|\n",
    "| Python        | EDA             | Supervised          | Productivización    |\n",
    "| Estadística    | R                | Non supervised       | Storytelling         |\n",
    "| SQL           | Feat. Eng.       | Deep Learning         | API                  |\n",
    "\n",
    "<br>\n",
    "\n",
    "\n",
    "$$\n",
    "\\begin{aligned}\n",
    "    &\\hspace{9cm} \\sqrt{3x - 1} + (1 + x)^2\n",
    "\\end{aligned}\n",
    "$$"
   ]
  },
  {
   "cell_type": "markdown",
   "metadata": {},
   "source": [
    "Intento con html (ayudada de tutos de internet y ChatGPT puesto que no se programar en html) pero no consigo ni alinear a la derecha la ecuación ni que esté el fondo en blanco. :(\n",
    "\n",
    "<table style=\"border: 1px solid black; border-collapse: collapse; background-color: white;\">\n",
    "  <thead>\n",
    "    <tr>\n",
    "      <th style=\"border: 1px solid black;\">Ramp Up</th>\n",
    "      <th style=\"border: 1px solid black;\">Data Analysis</th>\n",
    "      <th style=\"border: 1px solid black;\">Machine Learning</th>\n",
    "      <th style=\"border: 1px solid black;\">Data & Business</th>\n",
    "    </tr>\n",
    "  </thead>\n",
    "  <tbody>\n",
    "    <tr>\n",
    "      <td style=\"border: 1px solid black;\">Python</td>\n",
    "      <td style=\"border: 1px solid black;\">EDA</td>\n",
    "      <td style=\"border: 1px solid black;\">Supervised</td>\n",
    "      <td style=\"border: 1px solid black;\">Productivización</td>\n",
    "    </tr>\n",
    "    <tr>\n",
    "      <td style=\"border: 1px solid black;\">Estadística</td>\n",
    "      <td style=\"border: 1px solid black;\">R</td>\n",
    "      <td style=\"border: 1px solid black;\">Non supervised</td>\n",
    "      <td style=\"border: 1px solid black;\">Storytelling</td>\n",
    "    </tr>\n",
    "    <tr>\n",
    "      <td style=\"border: 1px solid black;\">SQL</td>\n",
    "      <td style=\"border: 1px solid black;\">Feat. Eng.</td>\n",
    "      <td style=\"border: 1px solid black;\">Deep Learning</td>\n",
    "      <td style=\"border: 1px solid black;\">API</td>\n",
    "    </tr>\n",
    "  </tbody>\n",
    "</table>\n",
    "\n",
    "<br><br><br>\n",
    "\n",
    "<div style=\"text-align: right; font-size: 20px;\">\n",
    "  <b>$$ \\sqrt{3x - 1} + (1 + x)^2 $$</b>\n",
    "</div>\n",
    "\n",
    "<script type=\"text/javascript\" src=\"https://cdnjs.cloudflare.com/ajax/libs/mathjax/2.7.7/MathJax.js?config=TeX-MML-AM_CHTML\"></script>"
   ]
  },
  {
   "cell_type": "code",
   "execution_count": null,
   "metadata": {},
   "outputs": [],
   "source": []
  }
 ],
 "metadata": {
  "kernelspec": {
   "display_name": "Python 3 (ipykernel)",
   "language": "python",
   "name": "python3"
  },
  "language_info": {
   "codemirror_mode": {
    "name": "ipython",
    "version": 3
   },
   "file_extension": ".py",
   "mimetype": "text/x-python",
   "name": "python",
   "nbconvert_exporter": "python",
   "pygments_lexer": "ipython3",
   "version": "3.10.11"
  },
  "vscode": {
   "interpreter": {
    "hash": "252189e587d1e2aeba4a06e91fa71896c7a7f6e22e918b9407c7cde4ef2d5985"
   }
  }
 },
 "nbformat": 4,
 "nbformat_minor": 4
}
