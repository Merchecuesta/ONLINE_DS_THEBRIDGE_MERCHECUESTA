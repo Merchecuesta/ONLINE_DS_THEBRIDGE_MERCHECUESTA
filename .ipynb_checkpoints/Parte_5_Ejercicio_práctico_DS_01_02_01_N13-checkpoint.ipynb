{
 "cells": [
  {
   "cell_type": "markdown",
   "metadata": {
    "id": "9l3HMgm6RWxF"
   },
   "source": [
    "![TheBridge_logo_RGB_color.jpg](attachment:TheBridge_logo_RGB_color.jpg)"
   ]
  },
  {
   "cell_type": "markdown",
   "metadata": {
    "id": "RGg9iWpoRWxG"
   },
   "source": [
    "![ejercicios.png](attachment:ejercicios.png)"
   ]
  },
  {
   "cell_type": "markdown",
   "metadata": {
    "id": "AyOlWS2nRWxH"
   },
   "source": [
    "## PRACTICA OBLIGATORIA: COLECCIONES Y FUNCIONES"
   ]
  },
  {
   "cell_type": "markdown",
   "metadata": {
    "id": "6UOgb0KVRWxH"
   },
   "source": [
    "* La práctica obligatoria de esta unidad consiste varios ejercicios de programación libre a completar sobre Colecciones y Funciones. Descarga este notebook en tu ordenador y trabaja en local.  \n",
    "* Recuerda que debes subirla a tu repositorio personal antes de la sesión en vivo para que puntúe adecuadamente y puedas participar en dicha sesión.  \n",
    "* Recuerda también que no es necesario que esté perfecta, sólo es necesario que se vea el esfuerzo.\n",
    "* Esta práctica se resolverá en la sesión en vivo correspondiente y la solución se publicará en el repo del curso."
   ]
  },
  {
   "cell_type": "markdown",
   "metadata": {
    "id": "j3yu-tEjRWxH"
   },
   "source": [
    "### Contenidos"
   ]
  },
  {
   "cell_type": "markdown",
   "metadata": {
    "id": "kO-fLH39RWxH"
   },
   "source": [
    "## Ejercicio 1\n",
    "Eleva todos los elementos de la lista al cuadrado\n",
    "> ```ejer_2 = [1,2,3,4,5]```"
   ]
  },
  {
   "cell_type": "code",
   "execution_count": 13,
   "metadata": {
    "id": "ks5l3yi7RWxH"
   },
   "outputs": [
    {
     "name": "stdout",
     "output_type": "stream",
     "text": [
      "El cuadrado de 1 es: 1\n",
      "El cuadrado de 2 es: 4\n",
      "El cuadrado de 3 es: 9\n",
      "El cuadrado de 4 es: 16\n",
      "El cuadrado de 5 es: 25\n"
     ]
    }
   ],
   "source": [
    "def al_cuadrado(*args):\n",
    "    for numero in args:\n",
    "        resultado = numero ** 2\n",
    "        print(f\"El cuadrado de {numero} es: {resultado}\")\n",
    "\n",
    "al_cuadrado(1, 2, 3, 4, 5)"
   ]
  },
  {
   "cell_type": "markdown",
   "metadata": {
    "id": "kI_Xr5oFRWxI"
   },
   "source": [
    "## Ejercicio 2\n",
    "Haz un programa que detecte todos los duplicados de un elemento en una lista:\n",
    "* Utiliza una variable duplicado para asignarle el valor del elemento del que queremos encontrar todos sus duplicados.\n",
    "* El programa debe devolver todos los índices de los elementos duplicados.\n",
    "* Aplícalo para encontrar los duplicados de \"un\", \"es\" y \"binario\" de:  \n",
    "\n",
    ">```ejer_3 = [\"Un\", \"árbol\", \"binario\", \"es\", \"una\", \"estructura\", \"de\", \"un\", \"tipo\", \"particular\", \"a\", \"veces\", \"no\", \"es\", \"ni\", \"binario\"]```\n"
   ]
  },
  {
   "cell_type": "code",
   "execution_count": 18,
   "metadata": {
    "id": "cLY9WB7YRWxI"
   },
   "outputs": [
    {
     "name": "stdout",
     "output_type": "stream",
     "text": [
      "El elemento 'un' aparece en los índices: [7]\n",
      "El elemento 'es' aparece en los índices: [3, 13]\n",
      "El elemento 'binario' aparece en los índices: [2, 15]\n"
     ]
    }
   ],
   "source": [
    "palabras_duplicadas = [\"un\", \"es\", \"binario\"]\n",
    "ejer_3 = [\"Un\", \"árbol\", \"binario\", \"es\", \"una\", \"estructura\", \"de\", \"un\", \"tipo\", \"particular\", \"a\", \"veces\", \"no\", \"es\", \"ni\", \"binario\"]\n",
    "for duplicado in palabras_duplicadas:\n",
    "    indices = []\n",
    "    for i, palabra in enumerate(ejer_3):\n",
    "        if palabra == duplicado:\n",
    "            indices.append(i)\n",
    "\n",
    "    print(f\"El elemento '{duplicado}' aparece en los índices: {indices}\")\n",
    "    "
   ]
  },
  {
   "cell_type": "markdown",
   "metadata": {
    "id": "3WrBd5QaRWxI"
   },
   "source": [
    "## Ejercicio 3\n",
    "1. ¿Cuántas veces se repite el 3 en la siguiente tupla?\n",
    "2. Crea una tupla nueva con los elementos desde la posicion 5 a la 10.\n",
    "3. ¿Cuántos elementos tiene la tupla `ejer_3`?\n",
    "> ```ejer_9 = (3, 20, 3, 47, 19, 3, 29, 45, 67, 78, 90, 3, 3, 5, 2, 4, 7, 9, 4, 2, 4, 3, 3, 4, 6, 7)```"
   ]
  },
  {
   "cell_type": "code",
   "execution_count": 20,
   "metadata": {
    "id": "bkv_R5LYRWxI"
   },
   "outputs": [
    {
     "name": "stdout",
     "output_type": "stream",
     "text": [
      "El numero 3 se repite: 7 veces.\n"
     ]
    }
   ],
   "source": [
    "#¿Cuántas veces se repite el 3 en la siguiente tupla?\n",
    "ejer_9 = (3, 20, 3, 47, 19, 3, 29, 45, 67, 78, 90, 3, 3, 5, 2, 4, 7, 9, 4, 2, 4, 3, 3, 4, 6, 7)\n",
    "repetido = ejer_9.count(3)\n",
    "print(\"El numero 3 se repite:\", repetido, \"veces.\")"
   ]
  },
  {
   "cell_type": "code",
   "execution_count": 23,
   "metadata": {},
   "outputs": [
    {
     "name": "stdout",
     "output_type": "stream",
     "text": [
      "La tupla nueva contiene los elementos: (19, 3, 29, 45, 67, 78)\n"
     ]
    }
   ],
   "source": [
    "#Crea una tupla nueva con los elementos desde la posicion 5 a la 10.\n",
    "ejer_9 = (3, 20, 3, 47, 19, 3, 29, 45, 67, 78, 90, 3, 3, 5, 2, 4, 7, 9, 4, 2, 4, 3, 3, 4, 6, 7)\n",
    "tupla_nueva = ejer_9[4:10]\n",
    "print(\"La tupla nueva contiene los elementos:\", tupla_nueva)\n"
   ]
  },
  {
   "cell_type": "code",
   "execution_count": 24,
   "metadata": {},
   "outputs": [
    {
     "name": "stdout",
     "output_type": "stream",
     "text": [
      "La tupla del ejercicio 3 contiene 16 elementos.\n"
     ]
    }
   ],
   "source": [
    "#¿Cuántos elementos tiene la tupla ejer_3?\n",
    "ejer_3 = [\"Un\", \"árbol\", \"binario\", \"es\", \"una\", \"estructura\", \"de\", \"un\", \"tipo\", \"particular\", \"a\", \"veces\", \"no\", \"es\", \"ni\", \"binario\"]\n",
    "print(\"La tupla del ejercicio 3 contiene\", len(ejer_3), \"elementos.\")"
   ]
  },
  {
   "cell_type": "markdown",
   "metadata": {
    "id": "6g8Y54AeRWxI"
   },
   "source": [
    "## Ejercicio 4\n",
    "Comprueba si el numero 60 esta en la tupla del ejercicio 3"
   ]
  },
  {
   "cell_type": "code",
   "execution_count": 5,
   "metadata": {
    "id": "F8VTEZonRWxI"
   },
   "outputs": [
    {
     "data": {
      "text/plain": [
       "0"
      ]
     },
     "execution_count": 5,
     "metadata": {},
     "output_type": "execute_result"
    }
   ],
   "source": [
    "ejer_3 = [\"Un\", \"árbol\", \"binario\", \"es\", \"una\", \"estructura\", \"de\", \"un\", \"tipo\", \"particular\", \"a\", \"veces\", \"no\", \"es\", \"ni\", \"binario\"]\n",
    "ejer_3.count(60)\n"
   ]
  },
  {
   "cell_type": "markdown",
   "metadata": {
    "id": "y0fg-ZA6RWxI"
   },
   "source": [
    "## Ejercicio 5\n",
    "1. Convierte la tupla del ejercicio 3 en una lista\n",
    "2. Convierte la tupla del ejercicio 3 en un set\n",
    "3. Convierte la tupla del ejercicio 3 en un diccionario. Usa también los indices"
   ]
  },
  {
   "cell_type": "code",
   "execution_count": 10,
   "metadata": {
    "id": "_O5hXr01RWxI"
   },
   "outputs": [
    {
     "name": "stdout",
     "output_type": "stream",
     "text": [
      "['Un', 'árbol', 'binario', 'es', 'una', 'estructura', 'de', 'un', 'tipo', 'particular', 'a', 'veces', 'no', 'es', 'ni', 'binario']\n",
      "{'a', 'ni', 'es', 'veces', 'una', 'tipo', 'estructura', 'particular', 'binario', 'de', 'árbol', 'no', 'Un', 'un'}\n",
      "{0: 'Un', 1: 'árbol', 2: 'binario', 3: 'es', 4: 'una', 5: 'estructura', 6: 'de', 7: 'un', 8: 'tipo', 9: 'particular', 10: 'a', 11: 'veces', 12: 'no', 13: 'es', 14: 'ni', 15: 'binario'}\n"
     ]
    }
   ],
   "source": [
    "#Convierte la tupla del ejercicio 3 en una lista\n",
    "ejer_3 = [\"Un\", \"árbol\", \"binario\", \"es\", \"una\", \"estructura\", \"de\", \"un\", \"tipo\", \"particular\", \"a\", \"veces\", \"no\", \"es\", \"ni\", \"binario\"]\n",
    "ejer_3_lista = list(ejer_3)\n",
    "print(ejer_3_lista)\n",
    "\n",
    "#Convierte la tupla del ejercicio 3 en un set\n",
    "ejer_3 = [\"Un\", \"árbol\", \"binario\", \"es\", \"una\", \"estructura\", \"de\", \"un\", \"tipo\", \"particular\", \"a\", \"veces\", \"no\", \"es\", \"ni\", \"binario\"]\n",
    "ejer_3_set = set(ejer_3)\n",
    "print(ejer_3_set)\n",
    "\n",
    "#Convierte la tupla del ejercicio 3 en un diccionario. Usa también los indices\n",
    "ejer_3 = [\"Un\", \"árbol\", \"binario\", \"es\", \"una\", \"estructura\", \"de\", \"un\", \"tipo\", \"particular\", \"a\", \"veces\", \"no\", \"es\", \"ni\", \"binario\"]\n",
    "ejer_3_dict = dict(enumerate(ejer_3))\n",
    "print(ejer_3_dict)"
   ]
  },
  {
   "cell_type": "markdown",
   "metadata": {
    "id": "eOdWWbxvRWxJ"
   },
   "source": [
    "## Ejercicio 6\n",
    "Multiplica todos los valores del diccionario\n",
    "> ```ejer_6 = {1: 11, 2: 22, 3: 33, 4: 44, 5: 55}```"
   ]
  },
  {
   "cell_type": "code",
   "execution_count": 12,
   "metadata": {
    "id": "KcuByovKRWxJ"
   },
   "outputs": [
    {
     "name": "stdout",
     "output_type": "stream",
     "text": [
      "19326120\n"
     ]
    }
   ],
   "source": [
    "ejer_6 = {1: 11, 2: 22, 3: 33, 4: 44, 5: 55}\n",
    "multiplica = 1\n",
    "\n",
    "for valor in ejer_6.values():\n",
    "    multiplica = multiplica*valor    \n",
    "\n",
    "print(multiplica)"
   ]
  },
  {
   "cell_type": "markdown",
   "metadata": {
    "id": "W7TUSaKRRWxJ"
   },
   "source": [
    "## Ejercicio 7\n",
    "\n",
    "1. Crea un diccionario que describa un libro, con los siguientes campos o claves: \"titulo\",\"autor\",\"idioma original\",\"año de publicación\".\n",
    "2. Crea un a lista, llamada librería.\n",
    "3. Añade cuatro libros a tu elección a la librería."
   ]
  },
  {
   "cell_type": "code",
   "execution_count": 19,
   "metadata": {
    "id": "d-IMRvxRRWxJ",
    "vscode": {
     "languageId": "plaintext"
    }
   },
   "outputs": [
    {
     "name": "stdout",
     "output_type": "stream",
     "text": [
      "{'titulo': 'El hijo de Tritón', 'autor': 'MCM', 'idioma original': 'español', 'año de publicacion': '2025'}\n",
      "['Dumbo', 'Bambi', 'La Sirenita']\n",
      "['Dumbo', 'Bambi', 'La Sirenita', 'Aladdin']\n",
      "['Dumbo', 'Bambi', 'La Sirenita', 'Aladdin', 'La Bella y la Bestia']\n",
      "['Dumbo', 'Bambi', '101 Dálmatas', 'La Sirenita', 'Aladdin', 'La Bella y la Bestia']\n",
      "['Dumbo', 'Bambi', '101 Dálmatas', 'La Sirenita', 'Aladdin', 'Blancanieves', 'La Bella y la Bestia']\n"
     ]
    }
   ],
   "source": [
    "#Crea un diccionario que describa un libro, con los siguientes campos o claves: \"titulo\",\"autor\",\"idioma original\",\"año de publicación\"\n",
    "libro_dict = {\"titulo\":\"El hijo de Tritón\", \"autor\":\"MCM\", \"idioma original\":\"español\", \"año de publicacion\":\"2025\"} \n",
    "print(libro_dict)\n",
    "#Crea un a lista, llamada librería.\n",
    "librería = [\"Dumbo\", \"Bambi\", \"La Sirenita\"]\n",
    "print(librería)\n",
    "#Añade cuatro libros a tu elección a la librería.\n",
    "librería.append(\"Aladdin\")\n",
    "print(librería)\n",
    "librería.append(\"La Bella y la Bestia\")\n",
    "print(librería)\n",
    "librería.insert(2, \"101 Dálmatas\")\n",
    "print(librería)\n",
    "librería.insert(-1, \"Blancanieves\")\n",
    "print(librería)\n"
   ]
  },
  {
   "cell_type": "markdown",
   "metadata": {
    "id": "glMoedjYRWxJ"
   },
   "source": [
    "## Ejercicio 8\n",
    "Modifica los valores del idioma de todos los libros del ejercicio anterior para que sea \"esperanto\"\n"
   ]
  },
  {
   "cell_type": "code",
   "execution_count": 25,
   "metadata": {
    "id": "veNdC-uwRWxJ"
   },
   "outputs": [
    {
     "name": "stdout",
     "output_type": "stream",
     "text": [
      "{'titulo': 'El hijo de Tritón', 'autor': 'MCM', 'idioma original': 'esperanto', 'año de publicacion': '2025'}\n"
     ]
    }
   ],
   "source": [
    "libro_dict = {\"titulo\":\"El hijo de Tritón\", \"autor\":\"MCM\", \"idioma original\":\"español\", \"año de publicacion\":\"2025\"} \n",
    "libro_dict[\"idioma original\"]=\"esperanto\"\n",
    "print(libro_dict)"
   ]
  },
  {
   "cell_type": "markdown",
   "metadata": {
    "id": "DRCJG04KRWxJ"
   },
   "source": [
    "## Ejercicio 9\n",
    "1. Escribe un programa que dada una variable titulo busque los libros que hay en la librería con ese título. Si no se encuentra debe devolver el mensaje `Ese no lo tengo, ¿mola?`\n",
    "2. Pruena que el programa con uno de tus libros y con otro que no contenga tu librería."
   ]
  },
  {
   "cell_type": "code",
   "execution_count": 15,
   "metadata": {
    "id": "eWHdJi9BRWxJ"
   },
   "outputs": [
    {
     "name": "stdin",
     "output_type": "stream",
     "text": [
      "Introduzca el titulo del libro a buscar Hook\n"
     ]
    },
    {
     "name": "stdout",
     "output_type": "stream",
     "text": [
      "Ese no lo tengo, ¿mola?\n"
     ]
    }
   ],
   "source": [
    "libreria = [\"Dumbo\", \"Bambi\", '101 Dalmatas', 'La Sirenita', 'Aladdin', 'Blancanieves', 'La Bella y la Bestia']\n",
    "titulo_a_buscar = input(\"Introduzca el titulo del libro a buscar\")\n",
    "\n",
    "encontrado = False\n",
    "\n",
    "for titulo in libreria:\n",
    "    if titulo == titulo_a_buscar:\n",
    "        print(f\"{titulo} está disponible\")\n",
    "        encontrado = True\n",
    "        break\n",
    "if not encontrado:\n",
    "        print(\"Ese no lo tengo, ¿mola?\")\n",
    "      \n",
    "        \n"
   ]
  },
  {
   "cell_type": "markdown",
   "metadata": {
    "id": "17YOpYuFRWxJ"
   },
   "source": [
    "## Ejercicio 10\n",
    "Convierte el programa del ejercicio 2 en una función al que se le pase el valor a buscar como un argumento posicional"
   ]
  },
  {
   "cell_type": "code",
   "execution_count": 31,
   "metadata": {
    "id": "xbj0LgvnRWxJ"
   },
   "outputs": [
    {
     "name": "stdout",
     "output_type": "stream",
     "text": [
      "El elemento 'un' aparece en los índices: [0, 7]\n",
      "El elemento 'es' aparece en los índices: [3, 13]\n",
      "El elemento 'binario' aparece en los índices: [2, 15]\n"
     ]
    }
   ],
   "source": [
    "\n",
    "palabras_duplicadas = [\"un\", \"es\", \"binario\"]\n",
    "ejer_3 = [\"Un\", \"árbol\", \"binario\", \"es\", \"una\", \"estructura\", \"de\", \"un\", \"tipo\", \"particular\", \"a\", \"veces\", \"no\", \"es\", \"ni\", \"binario\"]\n",
    "\n",
    "def buscar_duplicados(palabras, lista):\n",
    "    for palabra in palabras:\n",
    "        indices = []\n",
    "        for i, valor in enumerate(lista):\n",
    "            if palabra.lower() == valor.lower():  # Ignora mayúsculas/minúsculas\n",
    "                indices.append(i)\n",
    "        print(f\"El elemento '{palabra}' aparece en los índices: {indices}\")\n",
    "\n",
    "buscar_duplicados(palabras_duplicadas, ejer_3)"
   ]
  },
  {
   "cell_type": "markdown",
   "metadata": {
    "id": "xZ-sWJxPRWxJ"
   },
   "source": [
    "## Ejercicio 11\n",
    "Convierte el programa del ejercicio 9 en una función al que se le pasen como argumentos la librería, posicional, y el título, argumento keyword con valor \"ninguno\", por defecto."
   ]
  },
  {
   "cell_type": "code",
   "execution_count": 32,
   "metadata": {
    "id": "4-JrsMdNRWxK"
   },
   "outputs": [
    {
     "name": "stdout",
     "output_type": "stream",
     "text": [
      "'Bambi' está disponible\n",
      "Ese no lo tengo, ¿mola?\n",
      "Ese no lo tengo, ¿mola?\n"
     ]
    }
   ],
   "source": [
    "libreria = [\"Dumbo\", \"Bambi\", '101 Dalmatas', 'La Sirenita', 'Aladdin', 'Blancanieves', 'La Bella y la Bestia']\n",
    "\n",
    "def buscar_libro(libreria, titulo=\"ninguno\"):\n",
    "    encontrado = False\n",
    "\n",
    "    for libro in libreria:\n",
    "        if libro.lower() == titulo.lower():  # Compara sin importar mayúsculas\n",
    "            print(f\"'{libro}' está disponible\")\n",
    "            encontrado = True\n",
    "            break\n",
    "\n",
    "    if not encontrado:\n",
    "        print(\"Ese no lo tengo, ¿mola?\")\n",
    "\n",
    "buscar_libro(libreria, titulo=\"Bambi\")        # Llamada con argumento keyword\n",
    "buscar_libro(libreria)                        # Llamada sin título (usará \"ninguno\")\n",
    "buscar_libro(libreria, titulo=\"pinocho\")      # Título que no está"
   ]
  },
  {
   "cell_type": "markdown",
   "metadata": {
    "id": "FtJir95QRWxK"
   },
   "source": [
    "## Ejercicio 12\n",
    "Solicitar al usuario que ingrese su dirección email. Imprimir un mensaje indicando si la dirección es válida o no, valiéndose de una función para decidirlo. Una dirección se considerará válida si contiene el símbolo \"@\"."
   ]
  },
  {
   "cell_type": "code",
   "execution_count": 16,
   "metadata": {
    "id": "sk852IZ8RWxK"
   },
   "outputs": [
    {
     "name": "stdin",
     "output_type": "stream",
     "text": [
      "Por favor, introduzca su email:  camila@j\n"
     ]
    },
    {
     "name": "stdout",
     "output_type": "stream",
     "text": [
      "La dirección es válida\n"
     ]
    }
   ],
   "source": [
    "def es_email_valido(email):\n",
    "    return \"@\" in email\n",
    "\n",
    "email_usuario = input(\"Por favor, introduzca su email: \")\n",
    "\n",
    "if es_email_valido(email_usuario):\n",
    "    print(\"La dirección es válida\")\n",
    "else:\n",
    "    print(\"La dirección no es válida\")\n",
    "           "
   ]
  },
  {
   "cell_type": "markdown",
   "metadata": {
    "id": "Kw1MWBwBRWxK"
   },
   "source": [
    "## Ejercicio 13\n",
    "Escribe una función que compruebe si un DNI es válido, devolviendo `True` en caso afirmativo.  \n",
    "En primer lugar, el DNI debe tener entre 7 y 8 dígitos numéricos.  \n",
    "Para saber si la letra del DNI es correcta puedes utilizar el siguiente fragmento de código:\n",
    ">```Python\n",
    ">DNI= 55555555\n",
    ">palabra='TRWAGMYFPDXBNJZSQVHLCKE'\n",
    ">print('La letra del DNI es: ', palabra[DNI%23])\n",
    ">````\n"
   ]
  },
  {
   "cell_type": "code",
   "execution_count": 27,
   "metadata": {
    "id": "F5Z9rSHqRWxK"
   },
   "outputs": [
    {
     "name": "stdout",
     "output_type": "stream",
     "text": [
      "True\n"
     ]
    }
   ],
   "source": [
    "def dni_valido(dni):\n",
    "    # La tabla de letras para el cálculo\n",
    "    letras = 'TRWAGMYFPDXBNJZSQVHLCKE'\n",
    "\n",
    "    # Comprobar longitud total: debe ser 8 o 9 caracteres (7-8 dígitos + 1 letra)\n",
    "    if len(dni) not in [8, 9]:\n",
    "        return False\n",
    "\n",
    "    # Separar número y letra\n",
    "    num = dni[:-1]\n",
    "    letra = dni[-1].upper()  # Convertir letra a mayúscula para comparar\n",
    "\n",
    "    # Comprobar que los dígitos son numéricos y cantidad correcta\n",
    "    if not num.isdigit() or not (7 <= len(num) <= 8):\n",
    "        return False\n",
    "\n",
    "    # Calcular la letra correcta usando el número\n",
    "    numero = int(num)\n",
    "    letra_correcta = letras[numero % 23]\n",
    "\n",
    "    # Comparar letras\n",
    "    return letra == letra_correcta\n",
    "\n",
    "print(dni_valido(\"30227525m\"))"
   ]
  },
  {
   "cell_type": "code",
   "execution_count": null,
   "metadata": {},
   "outputs": [],
   "source": []
  }
 ],
 "metadata": {
  "colab": {
   "provenance": []
  },
  "kernelspec": {
   "display_name": "Python 3 (ipykernel)",
   "language": "python",
   "name": "python3"
  },
  "language_info": {
   "codemirror_mode": {
    "name": "ipython",
    "version": 3
   },
   "file_extension": ".py",
   "mimetype": "text/x-python",
   "name": "python",
   "nbconvert_exporter": "python",
   "pygments_lexer": "ipython3",
   "version": "3.10.11"
  }
 },
 "nbformat": 4,
 "nbformat_minor": 4
}
