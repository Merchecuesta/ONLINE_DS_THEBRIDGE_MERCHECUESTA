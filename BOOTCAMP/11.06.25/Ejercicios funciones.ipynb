{
 "cells": [
  {
   "cell_type": "markdown",
   "metadata": {},
   "source": [
    "![imagen](./img/ejercicios.png)"
   ]
  },
  {
   "cell_type": "markdown",
   "metadata": {},
   "source": [
    "# Ejercicios funciones\n",
    "## Ejercicio 1\n",
    "Escribe una función que convierta números del 1 al 7 en nombres de los dias de la semana. La función constará de un único argumento numérico y una salida de tipo string"
   ]
  },
  {
   "cell_type": "code",
   "execution_count": 19,
   "metadata": {},
   "outputs": [
    {
     "name": "stdout",
     "output_type": "stream",
     "text": [
      "jueves\n"
     ]
    }
   ],
   "source": [
    "\n",
    "def mi_dia(numero):\n",
    "    dias = {\n",
    "        1: \"lunes\",\n",
    "        2: \"martes\",\n",
    "        3: \"miércoles\",\n",
    "        4: \"jueves\",\n",
    "        5: \"viernes\",\n",
    "        6: \"sábado\",\n",
    "        7: \"domingo\"\n",
    "    }\n",
    "    if numero in dias:\n",
    "        return dias[numero]\n",
    "\n",
    "print(mi_dia(4))\n"
   ]
  },
  {
   "cell_type": "markdown",
   "metadata": {},
   "source": [
    "## Ejercicio 2\n",
    "En el ejercicio 8 de bucles, creábamos una pirámide invertida, cuyo número de pisos venía determinado por un input del usuario. Crear una función que replique el comportamiento de la pirámide, y utiliza un único parámetro de entrada de la función para determinar el número de filas de la pirámide, es decir, elimina la sentencia input."
   ]
  },
  {
   "cell_type": "code",
   "execution_count": 27,
   "metadata": {},
   "outputs": [
    {
     "name": "stdout",
     "output_type": "stream",
     "text": [
      "1 2 3 4 5 6 7 8 \n",
      "1 2 3 4 5 6 7 \n",
      "1 2 3 4 5 6 \n",
      "1 2 3 4 5 \n",
      "1 2 3 4 \n",
      "1 2 3 \n",
      "1 2 \n",
      "1 \n"
     ]
    }
   ],
   "source": [
    "\n",
    "def piramide_lineas(numero):\n",
    "    for i in range(numero, 0, -1):\n",
    "        for x in range(1, i + 1):  \n",
    "            print(x, end=\" \")\n",
    "        print()\n",
    "\n",
    "piramide_lineas(8)"
   ]
  },
  {
   "cell_type": "markdown",
   "metadata": {},
   "source": [
    "## Ejercicio 3\n",
    "Escibe una función que compare dos números. La función tiene dos argumentos y hay tres salidas posibles: que sean iguales, que el primero se  mayor que el segundo, o que el segundo sea mayor que el primero"
   ]
  },
  {
   "cell_type": "code",
   "execution_count": 33,
   "metadata": {},
   "outputs": [
    {
     "name": "stdout",
     "output_type": "stream",
     "text": [
      "Los dos números son iguales\n",
      "fin\n"
     ]
    }
   ],
   "source": [
    "def compara_dos_numeros (numero, numero_2):\n",
    "    if numero > numero_2:\n",
    "        print(\"El primero es mayor que el segundo\")\n",
    "    if numero == numero_2:\n",
    "        print(\"Los dos números son iguales\")\n",
    "    if numero < numero_2:\n",
    "        print(\"El segundo es mayor que el primero\")\n",
    "    return \"fin\"\n",
    "\n",
    "print(compara_dos_numeros(6,6))  \n",
    "\n"
   ]
  },
  {
   "cell_type": "markdown",
   "metadata": {},
   "source": [
    "## Ejercicio 4\n",
    "Escribe una función que sea un contador de letras. En el primer argumento tienes que introducir un texto, y el segundo que sea la letra a contar. La función tiene que devolver un entero con el número de veces que aparece esa letra, tanto mayuscula, como minúscula"
   ]
  },
  {
   "cell_type": "code",
   "execution_count": 49,
   "metadata": {},
   "outputs": [
    {
     "data": {
      "text/plain": [
       "2"
      ]
     },
     "execution_count": 49,
     "metadata": {},
     "output_type": "execute_result"
    }
   ],
   "source": [
    "def contador_de_letras(texto, letra):\n",
    "    texto = texto.lower()\n",
    "    letra = letra.lower()\n",
    "    contador = 0\n",
    "\n",
    "    for i in texto:\n",
    "        if i == letra:\n",
    "            contador += 1\n",
    "    return contador\n",
    "\n",
    "contador_de_letras (\"Maria\", \"a\")\n"
   ]
  },
  {
   "cell_type": "markdown",
   "metadata": {},
   "source": [
    "## Ejercicio 5\n",
    "Escribe una función que tenga un único argumento, un string. La salida de la función tiene que ser un diccionario con el conteo de todas las letras de ese string."
   ]
  },
  {
   "cell_type": "code",
   "execution_count": 56,
   "metadata": {},
   "outputs": [
    {
     "data": {
      "text/plain": [
       "{'s': 4,\n",
       " 'u': 1,\n",
       " 'p': 2,\n",
       " 'e': 2,\n",
       " 'r': 2,\n",
       " 'c': 2,\n",
       " 'a': 3,\n",
       " 'l': 3,\n",
       " 'i': 6,\n",
       " 'f': 1,\n",
       " 'g': 1,\n",
       " 't': 1,\n",
       " 'o': 3,\n",
       " 'd': 1}"
      ]
     },
     "execution_count": 56,
     "metadata": {},
     "output_type": "execute_result"
    }
   ],
   "source": [
    "def dic_string(texto):\n",
    "    conteo = {}\n",
    "    for i in texto:\n",
    "        if i in conteo:\n",
    "            conteo [i] += 1\n",
    "        else:\n",
    "            conteo [i] = 1   \n",
    "    return conteo\n",
    "\n",
    "dic_string(\"supercalifragilisticoespialidoso\")"
   ]
  },
  {
   "cell_type": "code",
   "execution_count": 17,
   "metadata": {},
   "outputs": [
    {
     "data": {
      "text/plain": [
       "{'h': 2, 'o': 2, 'l': 2, 'a': 2}"
      ]
     },
     "execution_count": 17,
     "metadata": {},
     "output_type": "execute_result"
    }
   ],
   "source": []
  },
  {
   "cell_type": "markdown",
   "metadata": {},
   "source": [
    "## Ejercicio 6\n",
    "Escribir una función que añada o elimine elementos en una lista. La función necesita los siguientes argumentos:\n",
    "* lista: la lista donde se añadirán o eliminarán los elementos\n",
    "* comando: \"add\" o \"remove\"\n",
    "* elemento: Por defecto es None."
   ]
  },
  {
   "cell_type": "code",
   "execution_count": 69,
   "metadata": {},
   "outputs": [
    {
     "name": "stdout",
     "output_type": "stream",
     "text": [
      "['camila', 'yo', 'Roberto']\n"
     ]
    }
   ],
   "source": [
    "def add_delete (lista, comando, elemento=None):\n",
    "   \n",
    "    if comando == \"add\":\n",
    "        lista.append(elemento)\n",
    "    if comando == \"remove\":\n",
    "        lista.remove(elemento)\n",
    "    return lista\n",
    "\n",
    "mi_lista =[\"camila\", \"yo\"]\n",
    "comando= \"add\"\n",
    "elemento = \"Roberto\" \n",
    "\n",
    "print(add_delete(mi_lista, comando, elemento))"
   ]
  },
  {
   "cell_type": "markdown",
   "metadata": {},
   "source": [
    "## Ejercicio 7\n",
    "Crea una función que reciba un número arbitrario de palabras, y devuelva una frase completa, separando las palabras con espacios."
   ]
  },
  {
   "cell_type": "code",
   "execution_count": 73,
   "metadata": {},
   "outputs": [
    {
     "name": "stdout",
     "output_type": "stream",
     "text": [
      "casa leo perro nube\n"
     ]
    }
   ],
   "source": [
    "def frase_completa (*palabras):\n",
    "    return \" \".join(palabras)\n",
    "\n",
    "print(frase_completa(\"casa\",\"leo\",\"perro\",\"nube\"))"
   ]
  },
  {
   "cell_type": "markdown",
   "metadata": {},
   "source": [
    "## Ejercicio 8\n",
    "Escribe un programa que obtenga el enésimo número de la [serie de Fibonacci](https://es.wikipedia.org/wiki/Sucesi%C3%B3n_de_Fibonacci). Tienes que crear una función recursiva con un único argumento.\n",
    "\n",
    "```Python\n",
    "fibonacci(2) = 1\n",
    "fibonacci(4) = 3\n",
    "fibonacci(5) = 5\n",
    "fibonacci(8) = 21\n",
    "```"
   ]
  },
  {
   "cell_type": "code",
   "execution_count": null,
   "metadata": {},
   "outputs": [],
   "source": [
    "#Fibonacci(n)=Fibonacci(n−1)+Fibonacci(n−2)\n",
    "\n",
    "#NI IDEA!\n",
    "\n",
    "def fibonacci(numero):\n",
    "    \n"
   ]
  },
  {
   "cell_type": "markdown",
   "metadata": {},
   "source": [
    "## Ejercicio 9\n",
    "Define en una única celda las siguientes funciones:\n",
    "* Función que calcule el área de un cuadrado\n",
    "* Función que calcule el area de un triángulo\n",
    "* Función que calcule el área de un círculo\n",
    "\n",
    "En otra celda, calcular el area de:\n",
    "* Dos círculos de radio 10 + un triángulo de base 3 y altura 7\n",
    "* Un cuadrado de lado = 10 + 3 círculos (uno de radio = 4 y los otros dos de radio = 6) + 5 triángulos de base = 2 + altura = 4"
   ]
  },
  {
   "cell_type": "code",
   "execution_count": null,
   "metadata": {},
   "outputs": [],
   "source": [
    "from math import pi\n",
    "\n",
    "def area_cuadrado(lado):\n",
    "    return lado ** 2\n",
    "\n",
    "def area_circulo(radio):\n",
    "        return pi * radio ** 2\n",
    "\n",
    "def area_triangulo(base, altura):\n",
    "    return (base * altura) / 2\n",
    "\n"
   ]
  },
  {
   "cell_type": "code",
   "execution_count": 84,
   "metadata": {},
   "outputs": [
    {
     "name": "stdout",
     "output_type": "stream",
     "text": [
      "Primer ejercicio: 638.8185307179587\n",
      "Segundo ejercicio: 396.46015351590177\n"
     ]
    }
   ],
   "source": [
    "print(\"Primer ejercicio:\", area_circulo(10) + area_circulo(10)+ area_triangulo(3, 7))\n",
    "print(\"Segundo ejercicio:\", area_cuadrado(10) + area_circulo(4) + 2*(area_circulo(6)) + 5*(area_triangulo(2, 4)))\n"
   ]
  }
 ],
 "metadata": {
  "kernelspec": {
   "display_name": "Python 3",
   "language": "python",
   "name": "python3"
  },
  "language_info": {
   "codemirror_mode": {
    "name": "ipython",
    "version": 3
   },
   "file_extension": ".py",
   "mimetype": "text/x-python",
   "name": "python",
   "nbconvert_exporter": "python",
   "pygments_lexer": "ipython3",
   "version": "3.10.11"
  }
 },
 "nbformat": 4,
 "nbformat_minor": 4
}
