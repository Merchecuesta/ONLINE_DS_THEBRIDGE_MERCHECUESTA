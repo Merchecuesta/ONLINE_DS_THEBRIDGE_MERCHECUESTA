{
 "cells": [
  {
   "cell_type": "markdown",
   "metadata": {
    "id": "vigJnuAMSU4x"
   },
   "source": [
    "![TheBridge_logo_RGB_color.jpg](attachment:TheBridge_logo_RGB_color.jpg)"
   ]
  },
  {
   "cell_type": "markdown",
   "metadata": {
    "id": "2xmnwM17SU4y"
   },
   "source": [
    "![ejercicios.png](attachment:ejercicios.png)"
   ]
  },
  {
   "cell_type": "markdown",
   "metadata": {
    "id": "liorA-1ZSU4y"
   },
   "source": [
    "# Ejercicios Clases y Objetos"
   ]
  },
  {
   "cell_type": "markdown",
   "metadata": {
    "id": "5xXUz5l9SU4z"
   },
   "source": [
    "## Ejercicio 1\n",
    "Somos una empresa que tiene varias tiendas de electrodomesticos. Necesitamos un programa para manejar las tiendas, ver las ventas que han tenido, cuántos empleados hay, etc... Para ello vamos a modelizar la tienda en una clase, que tendrá las siguientes características:\n",
    "* Nombre clase: \"Tienda\"\n",
    "* Atributos comunes:\n",
    "    * Tipo: \"Electrodomésticos\"\n",
    "    * Abierta: True\n",
    "* Atributos propios de cada tienda:\n",
    "    * Nombre - String\n",
    "    * Dirección - String\n",
    "    * Número de empleados - int\n",
    "    * Ventas ultimos 3 meses - Lista de 3 numeros\n",
    "* Método para calcular las ventas de todos los meses, que devuelva un numero con todas las ventas.\n",
    "* Método que calcula la media de ventas de los ultimos meses, por empleado\n",
    "* Método que devuelve en un string el nombre de la tienda, junto con su dirección.\n",
    "* Método que obtiene las ventas del último mes.\n",
    "* Método para dar una proyección de las ventas en caso de haber invertido X dinero en marketing en esa tienda. Siendo X el parámetro de entrada. Si X es menor de 1000, las ventas de los ultimos 3 meses hubiesen sido de (1.2 x ventas), si es mayor o igual de 1000, las ventas hubiesen sido de (1.5 x venta). El método reescribe el atributo de ventas en los últimos 3 meses, y además devuelve las ventas con el aumento.\n",
    "\n",
    "Se pide:\n",
    "1. Implementar la clase \"Tienda\"\n",
    "2. Crear tres tiendas con datos inventados\n",
    "3. Comprueba en al menos una de ellas, todo lo implementado en la clase tienda (sus atributos, media de ventas, ventas/empleado...)\n",
    "3. Calcular las ventas del último mes de todas las tiendas. Para ello usa el bucle `for`\n",
    "4. Imprime por pantalla los nombres de las tiendas cuya dirección lleve el string \"Avenida\"\n",
    "5. Seguro que ya has hecho este apartado... Documenta la clase :)"
   ]
  },
  {
   "cell_type": "code",
   "execution_count": 30,
   "metadata": {
    "id": "5cLQcLxfSU4z"
   },
   "outputs": [],
   "source": [
    "class Tienda:\n",
    "    # Atributos comunes a todas las tiendas\n",
    "    tipo = \"Electrodomésticos\"\n",
    "    abierta = True\n",
    "\n",
    "    def __init__(self, nombre, direccion, num_empleados, ventas_ultimos_3_meses):\n",
    "        self.nombre = nombre\n",
    "        self.direccion = direccion\n",
    "        self.num_empleados = num_empleados\n",
    "        self.ventas_ultimos_3_meses = ventas_ultimos_3_meses  # lista con 3 números\n",
    "\n",
    "    def ventas_totales(self):\n",
    "        \"\"\"Devuelve la suma de las ventas de los últimos 3 meses\"\"\"\n",
    "        return sum(self.ventas_ultimos_3_meses)\n",
    "\n",
    "    def media_ventas_por_empleado(self):\n",
    "        \"\"\"Devuelve la media de ventas de los últimos meses por empleado\"\"\"\n",
    "        if self.num_empleados == 0:\n",
    "            return 0\n",
    "        return self.ventas_totales() / self.num_empleados\n",
    "\n",
    "    def datos_tienda(self):\n",
    "        \"\"\"Devuelve un string con el nombre y la dirección de la tienda\"\"\"\n",
    "        return f\"Tienda: {self.nombre}, Dirección: {self.direccion}\"\n",
    "\n",
    "    def ventas_ultimo_mes(self):\n",
    "        \"\"\"Devuelve las ventas del último mes\"\"\"\n",
    "        return self.ventas_ultimos_3_meses[-1]\n",
    "\n",
    "    def proyeccion_ventas_marketing(self, x):\n",
    "        \"\"\"\n",
    "        Recibe inversión x en marketing y calcula la proyección de ventas:\n",
    "        - Si x < 1000: ventas aumentan un 20%\n",
    "        - Si x >= 1000: ventas aumentan un 50%\n",
    "        Actualiza ventas_ultimos_3_meses con las nuevas ventas (multiplicadas por el factor)\n",
    "        Devuelve la suma de las ventas proyectadas\n",
    "        \"\"\"\n",
    "        factor = 1.2 if x < 1000 else 1.5\n",
    "        # Se actualizan las ventas multiplicando cada mes por el factor\n",
    "        self.ventas_ultimos_3_meses = [v * factor for v in self.ventas_ultimos_3_meses]\n",
    "        return sum(self.ventas_ultimos_3_meses)"
   ]
  },
  {
   "cell_type": "code",
   "execution_count": 31,
   "metadata": {},
   "outputs": [],
   "source": [
    "tienda1 = Tienda(\"ElectroHogar\", \"Calle Mayor 12\", 10, [10000, 12000, 9000])\n",
    "tienda2 = Tienda(\"TecnoCenter\", \"Avenida Siempre Viva 742\", 8, [15000, 13000, 14000])\n",
    "tienda3 = Tienda(\"Casa Electro\", \"Plaza Central 3\", 5, [8000, 9000, 8500])\n"
   ]
  },
  {
   "cell_type": "code",
   "execution_count": 33,
   "metadata": {},
   "outputs": [
    {
     "name": "stdout",
     "output_type": "stream",
     "text": [
      "Tienda: ElectroHogar, Dirección: Calle Mayor 12\n",
      "Ventas totales: 37200.0\n",
      "Media ventas por empleado: 3720.0\n",
      "Ventas último mes: 10800.0\n",
      "Proyección ventas con inversión 800: 44640.0\n",
      "Ventas actualizadas: [14400.0, 17280.0, 12960.0]\n"
     ]
    }
   ],
   "source": [
    "print(tienda1.datos_tienda())\n",
    "print(\"Ventas totales:\", tienda1.ventas_totales())\n",
    "print(\"Media ventas por empleado:\", tienda1.media_ventas_por_empleado())\n",
    "print(\"Ventas último mes:\", tienda1.ventas_ultimo_mes())\n",
    "\n",
    "proyeccion = tienda1.proyeccion_ventas_marketing(800)\n",
    "print(\"Proyección ventas con inversión 800:\", proyeccion)\n",
    "print(\"Ventas actualizadas:\", tienda1.ventas_ultimos_3_meses)"
   ]
  },
  {
   "cell_type": "code",
   "execution_count": 34,
   "metadata": {},
   "outputs": [
    {
     "name": "stdout",
     "output_type": "stream",
     "text": [
      "Ventas último mes de ElectroHogar: 12960.0\n",
      "Ventas último mes de TecnoCenter: 14000\n",
      "Ventas último mes de Casa Electro: 8500\n"
     ]
    }
   ],
   "source": [
    "for tienda in [tienda1, tienda2, tienda3]:\n",
    "    print(f\"Ventas último mes de {tienda.nombre}: {tienda.ventas_ultimo_mes()}\")"
   ]
  },
  {
   "cell_type": "code",
   "execution_count": 35,
   "metadata": {},
   "outputs": [
    {
     "name": "stdout",
     "output_type": "stream",
     "text": [
      "La tienda 'TecnoCenter' está en una Avenida.\n"
     ]
    }
   ],
   "source": [
    "for tienda in [tienda1, tienda2, tienda3]:\n",
    "    if \"Avenida\" in tienda.direccion:\n",
    "        print(f\"La tienda '{tienda.nombre}' está en una Avenida.\")"
   ]
  },
  {
   "cell_type": "code",
   "execution_count": 36,
   "metadata": {},
   "outputs": [],
   "source": [
    "class Tienda:\n",
    "    \"\"\"\n",
    "    Clase que modela una tienda de electrodomésticos.\n",
    "\n",
    "    Atributos comunes:\n",
    "    - tipo: Tipo de tienda (Electrodomésticos)\n",
    "    - abierta: Estado de la tienda (True si está abierta)\n",
    "\n",
    "    Atributos propios:\n",
    "    - nombre: Nombre de la tienda (str)\n",
    "    - direccion: Dirección física (str)\n",
    "    - num_empleados: Número de empleados (int)\n",
    "    - ventas_ultimos_3_meses: Lista con ventas de los últimos 3 meses (list de números)\n",
    "\n",
    "    Métodos:\n",
    "    - ventas_totales(): Suma las ventas de los últimos 3 meses\n",
    "    - media_ventas_por_empleado(): Calcula la media de ventas por empleado\n",
    "    - datos_tienda(): Devuelve nombre y dirección en formato string\n",
    "    - ventas_ultimo_mes(): Devuelve las ventas del último mes\n",
    "    - proyeccion_ventas_marketing(x): Proyecta ventas según inversión en marketing (x)\n",
    "    \"\"\""
   ]
  },
  {
   "cell_type": "markdown",
   "metadata": {
    "id": "WEBq7EpsSU40"
   },
   "source": [
    "## Ejercicio 2\n",
    "En este ejercicio vamos a implementar una clase *Perro* en Python. La clase tiene las siguientes características:\n",
    "* Cosas que sabemos seguro que tiene un perro\n",
    "    * Tiene 4 patas\n",
    "    * 2 orejas\n",
    "    * 2 ojos\n",
    "    * Una velocidad de 0. Por defecto, el perro está parado\n",
    "* Cuando se inicialice:\n",
    "    * El perro será de una determinada raza\n",
    "    * Por defecto tendrá pelo \"Marrón\", a no ser que se diga lo contrario.\n",
    "    * Por defecto no tendrá dueño, a no ser que se diga lo contrario.\n",
    "    \n",
    "* Dispondrá también de un método llamado andar, que tiene un argumento de entrada (aumento_velocidad). Este valor se le sumará a la velocidad que ya llevaba el perro.\n",
    "* Necesita otro método (parar), donde pondremos la velocidad a 0.\n",
    "* Otro método llamado \"ladrar\", que tendrá un argumento de entrada, y la salida será el siguiente string: \"GUAU!\" + el argumento de entrada.\n",
    "\n",
    "\n",
    "Se pide:\n",
    "* Implementa la clase *Perro*\n",
    "* Crea un objeto de tipo *Perro*, sin dueño\n",
    "* Comprueba que están bien todos sus atributos\n",
    "* Prueba que ande, y comprueba su velocidad\n",
    "* Páralo\n",
    "* Documenta la clase *Perro*"
   ]
  },
  {
   "cell_type": "code",
   "execution_count": 47,
   "metadata": {},
   "outputs": [],
   "source": [
    "class Perro:\n",
    "    patas = 4\n",
    "    orejas = 2\n",
    "    ojos = 2\n",
    "    velocidad = 0\n",
    "\n",
    "    def __init__(self, raza, pelo=\"Marrón\", dueño=None):\n",
    "        self.raza = raza\n",
    "        self.pelo = pelo\n",
    "        self.dueño = dueño\n",
    "        self.velocidad = 0\n",
    "\n",
    "    def andar(self, aumento_velocidad):\n",
    "        self.velocidad += aumento_velocidad\n",
    "\n",
    "    def parar(self):\n",
    "        self.velocidad = 0\n",
    "\n",
    "    def ladrar(self, sonido):\n",
    "        return \"GUAU! \" + sonido"
   ]
  },
  {
   "cell_type": "code",
   "execution_count": 48,
   "metadata": {},
   "outputs": [
    {
     "name": "stdout",
     "output_type": "stream",
     "text": [
      "Raza: Labrador\n",
      "Pelo: Marrón\n",
      "Dueño: None\n",
      "Patas: 4\n",
      "Orejas: 2\n",
      "Ojos: 2\n",
      "Velocidad inicial: 0\n",
      "Velocidad tras andar: 5\n",
      "Velocidad tras parar: 0\n",
      "GUAU! ¡Estoy feliz!\n"
     ]
    }
   ],
   "source": [
    "\n",
    "mi_perro = Perro(\"Labrador\")\n",
    "\n",
    "# Comprobar atributos\n",
    "print(\"Raza:\", mi_perro.raza)\n",
    "print(\"Pelo:\", mi_perro.pelo)\n",
    "print(\"Dueño:\", mi_perro.dueño)\n",
    "print(\"Patas:\", mi_perro.patas)\n",
    "print(\"Orejas:\", mi_perro.orejas)\n",
    "print(\"Ojos:\", mi_perro.ojos)\n",
    "print(\"Velocidad inicial:\", mi_perro.velocidad)\n",
    "\n",
    "# Probar que ande y comprobar velocidad\n",
    "mi_perro.andar(5)\n",
    "print(\"Velocidad tras andar:\", mi_perro.velocidad)\n",
    "\n",
    "# Pararlo\n",
    "mi_perro.parar()\n",
    "print(\"Velocidad tras parar:\", mi_perro.velocidad)\n",
    "\n",
    "# Probar ladrar\n",
    "print(mi_perro.ladrar(\"¡Estoy feliz!\"))"
   ]
  }
 ],
 "metadata": {
  "colab": {
   "provenance": []
  },
  "kernelspec": {
   "display_name": "Python 3 (ipykernel)",
   "language": "python",
   "name": "python3"
  },
  "language_info": {
   "codemirror_mode": {
    "name": "ipython",
    "version": 3
   },
   "file_extension": ".py",
   "mimetype": "text/x-python",
   "name": "python",
   "nbconvert_exporter": "python",
   "pygments_lexer": "ipython3",
   "version": "3.10.11"
  }
 },
 "nbformat": 4,
 "nbformat_minor": 4
}
