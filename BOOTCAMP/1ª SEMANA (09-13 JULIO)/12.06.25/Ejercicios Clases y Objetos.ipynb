{
 "cells": [
  {
   "cell_type": "markdown",
   "metadata": {},
   "source": [
    "![imagen](./img/ejercicios.png)\n",
    "\n",
    "# Ejercicios Clases y Objetos"
   ]
  },
  {
   "cell_type": "markdown",
   "metadata": {},
   "source": [
    "## Ejercicio 1\n",
    "Somos una empresa que tiene varias tiendas de electrodomesticos. Necesitamos un programa para manejar las tiendas, ver las ventas que han tenido, cuántos empleados hay, etc... Para ello vamos a modelizar la tienda en una clase, que tendrá las siguientes características:\n",
    "* Nombre clase: \"Tienda\"\n",
    "* Atributos comunes:\n",
    "    * Tipo: \"Electrodomésticos\"\n",
    "    * Abierta: True\n",
    "* Atributos propios de cada tienda:\n",
    "    * Nombre - String\n",
    "    * Dirección - String\n",
    "    * Número de empleados - int\n",
    "    * Ventas ultimos 3 meses - Lista de 3 numeros\n",
    "* Método para calcular las ventas de todos los meses, que devuelva un numero con todas las ventas.\n",
    "* Método que calcula la media de ventas de los ultimos meses, por empleado\n",
    "* Método que devuelve en un string el nombre de la tienda, junto con su dirección.\n",
    "* Método que obtiene las ventas del último mes.\n",
    "* Método para dar una proyección de las ventas en caso de haber invertido X dinero en marketing en esa tienda. Siendo X el parámetro de entrada. Si X es menor de 1000, las ventas de los ultimos 3 meses hubiesen sido de (1.2 x ventas), si es mayor o igual de 1000, las ventas hubiesen sido de (1.5 x venta). El método reescribe el atributo de ventas en los últimos 3 meses, y además devuelve las ventas con el aumento.\n",
    "\n",
    "Se pide:\n",
    "1. Implementar la clase \"Tienda\"\n",
    "2. Crear tres tiendas con datos inventados\n",
    "3. Comprueba en al menos una de ellas, todo lo implementado en la clase tienda (sus atributos, media de ventas, ventas/empleado...)\n",
    "3. Calcular las ventas del último mes de todas las tiendas. Para ello usa el bucle `for`\n",
    "4. Imprime por pantalla los nombres de las tiendas cuya dirección lleve el string \"Avenida\"\n",
    "5. Seguro que ya has hecho este apartado... Documenta la clase :)"
   ]
  },
  {
   "cell_type": "code",
   "execution_count": 24,
   "metadata": {},
   "outputs": [],
   "source": [
    "#1. Implementar la clase \"Tienda\"\n",
    "\n",
    "class Tienda:\n",
    "    Tipo = \"Electrodomésticos\"\n",
    "    Abierta = True\n",
    "\n",
    "    def __init__(self, nombre, direccion, n_empleados, ventas_3=[]):\n",
    "        self.nombre = nombre\n",
    "        self.direccion = direccion\n",
    "        self.n_empleados = n_empleados\n",
    "        self.ventas_3 = ventas_3\n",
    "        print(\"¡Tienda implementada!\")\n",
    "    \n",
    "    \n"
   ]
  },
  {
   "cell_type": "code",
   "execution_count": 28,
   "metadata": {},
   "outputs": [
    {
     "name": "stdout",
     "output_type": "stream",
     "text": [
      "¡Tienda implementada!\n",
      "¡Tienda implementada!\n",
      "¡Tienda implementada!\n"
     ]
    }
   ],
   "source": [
    "#2. Crear tres tiendas con datos inventados\n",
    "\n",
    "tienda1 = Tienda(\"Triana\",\"C/Triana, 1\", 22, [23000,19000,20000])\n",
    "tienda2 = Tienda(\"Nervión\",\"Avda Nueva, s/n\", 58, [50000,45000,35000])\n",
    "tienda3 = Tienda(\"D. Norte\",\"Avda Kansas City, 44\", 200, [253000,159000,360000])"
   ]
  },
  {
   "cell_type": "code",
   "execution_count": 30,
   "metadata": {},
   "outputs": [
    {
     "data": {
      "text/plain": [
       "{'nombre': 'Triana',\n",
       " 'direccion': 'C/Triana, 1',\n",
       " 'n_empleados': 22,\n",
       " 'ventas_3': [23000, 19000, 20000]}"
      ]
     },
     "execution_count": 30,
     "metadata": {},
     "output_type": "execute_result"
    }
   ],
   "source": [
    "#3. Comprueba en al menos una de ellas, todo lo implementado en la clase tienda (sus atributos, media de ventas, ventas/empleado...)\n",
    "\n",
    "tienda1.__dict__"
   ]
  },
  {
   "cell_type": "code",
   "execution_count": 39,
   "metadata": {},
   "outputs": [
    {
     "name": "stdout",
     "output_type": "stream",
     "text": [
      "Triana: 20000 €\n",
      "Nervión: 35000 €\n",
      "D. Norte: 360000 €\n"
     ]
    }
   ],
   "source": [
    "#3. Calcular las ventas del último mes de todas las tiendas. Para ello usa el bucle `for`\n",
    "\n",
    "tiendas_grupo = [tienda1, tienda2, tienda3]\n",
    "\n",
    "for tienda in tiendas_grupo:\n",
    "    ultima_venta = tienda.ventas_3[-1]  # último elemento de la lista\n",
    "    print(f\"{tienda.nombre}: {ultima_venta} €\")"
   ]
  },
  {
   "cell_type": "code",
   "execution_count": 47,
   "metadata": {},
   "outputs": [
    {
     "name": "stdout",
     "output_type": "stream",
     "text": [
      "Nervión\n",
      "D. Norte\n"
     ]
    }
   ],
   "source": [
    "#4. Imprime por pantalla los nombres de las tiendas cuya dirección lleve el string \"Avenida\"\n",
    "\n",
    "tiendas_grupo = [tienda1, tienda2, tienda3]\n",
    "\n",
    "for tienda in tiendas_grupo:\n",
    "    if \"Avda\" in tienda.direccion:\n",
    "        print(tienda.nombre)"
   ]
  },
  {
   "cell_type": "code",
   "execution_count": 54,
   "metadata": {},
   "outputs": [
    {
     "data": {
      "text/plain": [
       "'\\nclass Tienda:\\n\\nClase que representa una tienda de electrodomésticos.\\n\\n    Atributos de clase:\\n        Tipo (str): Categoría general de la tienda.\\n        Abierta (bool): Estado general (abierta o cerrada).\\n\\n    Atributos de instancia:\\n        nombre (str): Nombre de la tienda.\\n        direccion (str): Dirección física de la tienda.\\n        n_empleados (int): Número de empleados en la tienda.\\n        ventas_3 (list): Lista con las ventas de los últimos 3 meses.\\n'"
      ]
     },
     "execution_count": 54,
     "metadata": {},
     "output_type": "execute_result"
    }
   ],
   "source": [
    "\n",
    "\n",
    "\"\"\"\n",
    "class Tienda:\n",
    "\n",
    "Clase que representa una tienda de electrodomésticos.\n",
    "\n",
    "    Atributos de clase:\n",
    "        Tipo (str): Categoría general de la tienda.\n",
    "        Abierta (bool): Estado general (abierta o cerrada).\n",
    "\n",
    "    Atributos de instancia:\n",
    "        nombre (str): Nombre de la tienda.\n",
    "        direccion (str): Dirección física de la tienda.\n",
    "        n_empleados (int): Número de empleados en la tienda.\n",
    "        ventas_3 (list): Lista con las ventas de los últimos 3 meses.\n",
    "\"\"\"\n"
   ]
  },
  {
   "cell_type": "markdown",
   "metadata": {},
   "source": [
    "## Ejercicio 2\n",
    "En este ejercicio vamos a implementar una clase *Perro* en Python. La clase tiene las siguientes características:\n",
    "* Cosas que sabemos seguro que tiene un perro\n",
    "    * Tiene 4 patas\n",
    "    * 2 orejas\n",
    "    * 2 ojos\n",
    "    * Una velocidad de 0. Por defecto, el perro está parado\n",
    "* Cuando se inicialice:\n",
    "    * El perro será de una determinada raza\n",
    "    * Por defecto tendrá pelo \"Marrón\", a no ser que se diga lo contrario.\n",
    "    * Por defecto no tendrá dueño, a no ser que se diga lo contrario.\n",
    "    \n",
    "* Dispondrá también de un método llamado andar, que tiene un argumento de entrada (aumento_velocidad). Este valor se le sumará a la velocidad que ya llevaba el perro.\n",
    "* Necesita otro método (parar), donde pondremos la velocidad a 0.\n",
    "* Otro método llamado \"ladrar\", que tendrá un argumento de entrada, y la salida será el siguiente string: \"GUAU!\" + el argumento de entrada.\n",
    "\n",
    "\n",
    "Se pide:\n",
    "* Implementa la clase *Perro*\n",
    "* Crea un objeto de tipo *Perro*, sin dueño\n",
    "* Comprueba que están bien todos sus atributos\n",
    "* Prueba que ande, y comprueba su velocidad\n",
    "* Páralo\n",
    "* Documenta la clase *Perro*"
   ]
  },
  {
   "cell_type": "code",
   "execution_count": 60,
   "metadata": {},
   "outputs": [],
   "source": [
    "class Perro:\n",
    "    patas = 4\n",
    "    orejas = 2\n",
    "    ojos = 2\n",
    "    velocidad = 0\n",
    "\n",
    "    def __init__ (self, raza, color = \"marron\", dueno = False):\n",
    "        self.raza = raza\n",
    "        self.color = color\n",
    "        self.dueno = dueno \n",
    "\n",
    "    def anda(self, aumento_velocidad):\n",
    "        self.velocidad += aumento_velocidad   \n",
    "        print (\"El perro está andando\")     \n",
    "        return self.velocidad\n",
    "    \n",
    "    def para(self):\n",
    "        self.velocidad = 0\n",
    "        print (\"El perro está parado\")\n",
    "        return self.velocidad\n",
    "    \n",
    "    def ladra(self, motivo_ladra):\n",
    "        return \"GUAU\" + motivo_ladra\n"
   ]
  },
  {
   "cell_type": "code",
   "execution_count": 67,
   "metadata": {},
   "outputs": [
    {
     "name": "stdout",
     "output_type": "stream",
     "text": [
      "{'raza': 'caniche', 'color': 'blanco', 'dueno': False}\n"
     ]
    }
   ],
   "source": [
    "#* Crea un objeto de tipo *Perro*, sin dueño\n",
    "\n",
    "perro1 = Perro(\"caniche\", \"blanco\")\n",
    "print(perro1.__dict__)\n",
    "\n"
   ]
  },
  {
   "cell_type": "code",
   "execution_count": 72,
   "metadata": {},
   "outputs": [
    {
     "name": "stdout",
     "output_type": "stream",
     "text": [
      "El perro está andando\n"
     ]
    },
    {
     "data": {
      "text/plain": [
       "46"
      ]
     },
     "execution_count": 72,
     "metadata": {},
     "output_type": "execute_result"
    }
   ],
   "source": [
    "# Prueba que ande, y comprueba su velocidad\n",
    "\n",
    "perro1.anda(23)\n",
    "\n",
    "perro1.velocidad"
   ]
  },
  {
   "cell_type": "code",
   "execution_count": 73,
   "metadata": {},
   "outputs": [
    {
     "name": "stdout",
     "output_type": "stream",
     "text": [
      "El perro está parado\n"
     ]
    },
    {
     "data": {
      "text/plain": [
       "0"
      ]
     },
     "execution_count": 73,
     "metadata": {},
     "output_type": "execute_result"
    }
   ],
   "source": [
    "# Páralo\n",
    "\n",
    "perro1.para()"
   ]
  },
  {
   "cell_type": "markdown",
   "metadata": {},
   "source": [
    "Documenta la clase *Perro*\n",
    "class Perro:\n",
    "    \"\"\"\n",
    "    Clase que representa un perro.\n",
    "\n",
    "    Atributos de clase:\n",
    "        patas (int): Número de patas (4).\n",
    "        orejas (int): Número de orejas (2).\n",
    "        ojos (int): Número de ojos (2).\n",
    "        velocidad (int): Velocidad compartida por todos los perros (atributo de clase).\n",
    "\n",
    "    Atributos de instancia:\n",
    "        raza (str): Raza del perro.\n",
    "        color (str): Color del pelaje. Por defecto \"marron\".\n",
    "        dueno (bool): Indica si tiene dueño o no. Por defecto False.\n",
    "\n",
    "    Métodos:\n",
    "        __init__(raza, color=\"marron\", dueno=False): Inicializa un perro con los atributos dados.\n",
    "        anda(aumento_velocidad): Aumenta la velocidad compartida del perro en el valor dado.\n",
    "        para(): Pone la velocidad compartida a 0.\n",
    "        ladra(motivo_ladra): Devuelve un string con el ladrido y el motivo.\n",
    "    \"\"\"\n",
    "\n"
   ]
  }
 ],
 "metadata": {
  "kernelspec": {
   "display_name": "Python 3",
   "language": "python",
   "name": "python3"
  },
  "language_info": {
   "codemirror_mode": {
    "name": "ipython",
    "version": 3
   },
   "file_extension": ".py",
   "mimetype": "text/x-python",
   "name": "python",
   "nbconvert_exporter": "python",
   "pygments_lexer": "ipython3",
   "version": "3.10.11"
  }
 },
 "nbformat": 4,
 "nbformat_minor": 4
}
